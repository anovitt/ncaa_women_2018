{
 "cells": [
  {
   "cell_type": "markdown",
   "metadata": {},
   "source": [
    "# Load packages"
   ]
  },
  {
   "cell_type": "code",
   "execution_count": 1,
   "metadata": {},
   "outputs": [],
   "source": [
    "import time\n",
    "import numpy as np\n",
    "import pandas as pd"
   ]
  },
  {
   "cell_type": "markdown",
   "metadata": {},
   "source": [
    "# Load data"
   ]
  },
  {
   "cell_type": "code",
   "execution_count": 2,
   "metadata": {},
   "outputs": [],
   "source": [
    "kp_df=[]\n",
    "years_list = [2019,2018,2017,2016,2015,2014,2013,2012,2011,2010,2009,2008,2007,2006,2005,2004,2003,2002]\n",
    "for year in years_list:\n",
    "    temp_kp_df = pd.read_csv(\"Data/Ken Pom/KP\" + str(year) + \"_final.csv\")\n",
    "    temp_kp_df['Season'] = year\n",
    "    year_last = year   \n",
    "    if year==2019:\n",
    "        kp_df = temp_kp_df\n",
    "    else:\n",
    "        kp_df = kp_df.append(temp_kp_df)"
   ]
  },
  {
   "cell_type": "code",
   "execution_count": 3,
   "metadata": {},
   "outputs": [
    {
     "data": {
      "text/html": [
       "<div>\n",
       "<style scoped>\n",
       "    .dataframe tbody tr th:only-of-type {\n",
       "        vertical-align: middle;\n",
       "    }\n",
       "\n",
       "    .dataframe tbody tr th {\n",
       "        vertical-align: top;\n",
       "    }\n",
       "\n",
       "    .dataframe thead th {\n",
       "        text-align: right;\n",
       "    }\n",
       "</style>\n",
       "<table border=\"1\" class=\"dataframe\">\n",
       "  <thead>\n",
       "    <tr style=\"text-align: right;\">\n",
       "      <th></th>\n",
       "      <th>team</th>\n",
       "      <th>conf</th>\n",
       "      <th>adjem</th>\n",
       "      <th>adjo</th>\n",
       "      <th>adjd</th>\n",
       "      <th>luck</th>\n",
       "      <th>Season</th>\n",
       "    </tr>\n",
       "  </thead>\n",
       "  <tbody>\n",
       "    <tr>\n",
       "      <th>0</th>\n",
       "      <td>Virginia</td>\n",
       "      <td>ACC</td>\n",
       "      <td>35.66</td>\n",
       "      <td>123.6</td>\n",
       "      <td>87.9</td>\n",
       "      <td>0.024</td>\n",
       "      <td>2019</td>\n",
       "    </tr>\n",
       "    <tr>\n",
       "      <th>1</th>\n",
       "      <td>Gonzaga</td>\n",
       "      <td>WCC</td>\n",
       "      <td>32.79</td>\n",
       "      <td>125.1</td>\n",
       "      <td>92.3</td>\n",
       "      <td>0.008</td>\n",
       "      <td>2019</td>\n",
       "    </tr>\n",
       "    <tr>\n",
       "      <th>2</th>\n",
       "      <td>Duke</td>\n",
       "      <td>ACC</td>\n",
       "      <td>31.99</td>\n",
       "      <td>120.1</td>\n",
       "      <td>88.1</td>\n",
       "      <td>0.018</td>\n",
       "      <td>2019</td>\n",
       "    </tr>\n",
       "    <tr>\n",
       "      <th>3</th>\n",
       "      <td>Michigan St.</td>\n",
       "      <td>B10</td>\n",
       "      <td>31.36</td>\n",
       "      <td>121.7</td>\n",
       "      <td>90.4</td>\n",
       "      <td>-0.007</td>\n",
       "      <td>2019</td>\n",
       "    </tr>\n",
       "    <tr>\n",
       "      <th>4</th>\n",
       "      <td>Michigan</td>\n",
       "      <td>B10</td>\n",
       "      <td>29.44</td>\n",
       "      <td>115.5</td>\n",
       "      <td>86.1</td>\n",
       "      <td>-0.014</td>\n",
       "      <td>2019</td>\n",
       "    </tr>\n",
       "  </tbody>\n",
       "</table>\n",
       "</div>"
      ],
      "text/plain": [
       "           team conf  adjem   adjo  adjd   luck  Season\n",
       "0      Virginia  ACC  35.66  123.6  87.9  0.024    2019\n",
       "1       Gonzaga  WCC  32.79  125.1  92.3  0.008    2019\n",
       "2          Duke  ACC  31.99  120.1  88.1  0.018    2019\n",
       "3  Michigan St.  B10  31.36  121.7  90.4 -0.007    2019\n",
       "4      Michigan  B10  29.44  115.5  86.1 -0.014    2019"
      ]
     },
     "execution_count": 3,
     "metadata": {},
     "output_type": "execute_result"
    }
   ],
   "source": [
    "kp_df.head()"
   ]
  },
  {
   "cell_type": "code",
   "execution_count": 4,
   "metadata": {},
   "outputs": [
    {
     "data": {
      "text/html": [
       "<div>\n",
       "<style scoped>\n",
       "    .dataframe tbody tr th:only-of-type {\n",
       "        vertical-align: middle;\n",
       "    }\n",
       "\n",
       "    .dataframe tbody tr th {\n",
       "        vertical-align: top;\n",
       "    }\n",
       "\n",
       "    .dataframe thead th {\n",
       "        text-align: right;\n",
       "    }\n",
       "</style>\n",
       "<table border=\"1\" class=\"dataframe\">\n",
       "  <thead>\n",
       "    <tr style=\"text-align: right;\">\n",
       "      <th></th>\n",
       "      <th>team</th>\n",
       "      <th>conf</th>\n",
       "      <th>adjem</th>\n",
       "      <th>adjo</th>\n",
       "      <th>adjd</th>\n",
       "      <th>luck</th>\n",
       "      <th>Season</th>\n",
       "    </tr>\n",
       "  </thead>\n",
       "  <tbody>\n",
       "    <tr>\n",
       "      <th>322</th>\n",
       "      <td>Nicholls St.</td>\n",
       "      <td>Slnd</td>\n",
       "      <td>-26.22</td>\n",
       "      <td>87.1</td>\n",
       "      <td>113.3</td>\n",
       "      <td>-0.070</td>\n",
       "      <td>2002</td>\n",
       "    </tr>\n",
       "    <tr>\n",
       "      <th>323</th>\n",
       "      <td>Arkansas Pine Bluff</td>\n",
       "      <td>SWAC</td>\n",
       "      <td>-28.85</td>\n",
       "      <td>82.2</td>\n",
       "      <td>111.1</td>\n",
       "      <td>-0.014</td>\n",
       "      <td>2002</td>\n",
       "    </tr>\n",
       "    <tr>\n",
       "      <th>324</th>\n",
       "      <td>Mount St. Mary's</td>\n",
       "      <td>NEC</td>\n",
       "      <td>-29.36</td>\n",
       "      <td>85.1</td>\n",
       "      <td>114.5</td>\n",
       "      <td>0.019</td>\n",
       "      <td>2002</td>\n",
       "    </tr>\n",
       "    <tr>\n",
       "      <th>325</th>\n",
       "      <td>Morris Brown</td>\n",
       "      <td>ind</td>\n",
       "      <td>-29.95</td>\n",
       "      <td>85.1</td>\n",
       "      <td>115.1</td>\n",
       "      <td>0.044</td>\n",
       "      <td>2002</td>\n",
       "    </tr>\n",
       "    <tr>\n",
       "      <th>326</th>\n",
       "      <td>Savannah St.</td>\n",
       "      <td>ind</td>\n",
       "      <td>-31.15</td>\n",
       "      <td>78.1</td>\n",
       "      <td>109.2</td>\n",
       "      <td>-0.021</td>\n",
       "      <td>2002</td>\n",
       "    </tr>\n",
       "  </tbody>\n",
       "</table>\n",
       "</div>"
      ],
      "text/plain": [
       "                    team  conf  adjem  adjo   adjd   luck  Season\n",
       "322         Nicholls St.  Slnd -26.22  87.1  113.3 -0.070    2002\n",
       "323  Arkansas Pine Bluff  SWAC -28.85  82.2  111.1 -0.014    2002\n",
       "324     Mount St. Mary's   NEC -29.36  85.1  114.5  0.019    2002\n",
       "325         Morris Brown   ind -29.95  85.1  115.1  0.044    2002\n",
       "326         Savannah St.   ind -31.15  78.1  109.2 -0.021    2002"
      ]
     },
     "execution_count": 4,
     "metadata": {},
     "output_type": "execute_result"
    }
   ],
   "source": [
    "kp_df.tail()"
   ]
  },
  {
   "cell_type": "code",
   "execution_count": 5,
   "metadata": {},
   "outputs": [
    {
     "data": {
      "text/plain": [
       "2019    353\n",
       "2018    351\n",
       "2014    351\n",
       "2015    351\n",
       "2017    351\n",
       "2016    351\n",
       "2010    347\n",
       "2013    347\n",
       "2012    345\n",
       "2011    345\n",
       "2009    344\n",
       "2008    341\n",
       "2007    336\n",
       "2006    334\n",
       "2005    330\n",
       "2002    327\n",
       "2003    327\n",
       "2004    326\n",
       "Name: Season, dtype: int64"
      ]
     },
     "execution_count": 5,
     "metadata": {},
     "output_type": "execute_result"
    }
   ],
   "source": [
    "kp_df['Season'].value_counts(dropna=False)"
   ]
  },
  {
   "cell_type": "code",
   "execution_count": 6,
   "metadata": {},
   "outputs": [],
   "source": [
    "kp_df['team'] = kp_df['team'].str.lower()"
   ]
  },
  {
   "cell_type": "markdown",
   "metadata": {},
   "source": [
    "# Match Team IDs to data"
   ]
  },
  {
   "cell_type": "code",
   "execution_count": 7,
   "metadata": {},
   "outputs": [],
   "source": [
    "teams_df = pd.read_csv('Data/Kaggle NCAA/TeamSpellings.csv', sep='\\,', engine='python')"
   ]
  },
  {
   "cell_type": "code",
   "execution_count": 8,
   "metadata": {},
   "outputs": [
    {
     "data": {
      "text/html": [
       "<div>\n",
       "<style scoped>\n",
       "    .dataframe tbody tr th:only-of-type {\n",
       "        vertical-align: middle;\n",
       "    }\n",
       "\n",
       "    .dataframe tbody tr th {\n",
       "        vertical-align: top;\n",
       "    }\n",
       "\n",
       "    .dataframe thead th {\n",
       "        text-align: right;\n",
       "    }\n",
       "</style>\n",
       "<table border=\"1\" class=\"dataframe\">\n",
       "  <thead>\n",
       "    <tr style=\"text-align: right;\">\n",
       "      <th></th>\n",
       "      <th>TeamNameSpelling</th>\n",
       "      <th>TeamID</th>\n",
       "    </tr>\n",
       "  </thead>\n",
       "  <tbody>\n",
       "    <tr>\n",
       "      <th>0</th>\n",
       "      <td>a&amp;m-corpus chris</td>\n",
       "      <td>1394</td>\n",
       "    </tr>\n",
       "    <tr>\n",
       "      <th>1</th>\n",
       "      <td>a&amp;m-corpus christi</td>\n",
       "      <td>1394</td>\n",
       "    </tr>\n",
       "    <tr>\n",
       "      <th>2</th>\n",
       "      <td>abilene chr</td>\n",
       "      <td>1101</td>\n",
       "    </tr>\n",
       "    <tr>\n",
       "      <th>3</th>\n",
       "      <td>abilene christian</td>\n",
       "      <td>1101</td>\n",
       "    </tr>\n",
       "    <tr>\n",
       "      <th>4</th>\n",
       "      <td>abilene-christian</td>\n",
       "      <td>1101</td>\n",
       "    </tr>\n",
       "  </tbody>\n",
       "</table>\n",
       "</div>"
      ],
      "text/plain": [
       "     TeamNameSpelling  TeamID\n",
       "0    a&m-corpus chris    1394\n",
       "1  a&m-corpus christi    1394\n",
       "2         abilene chr    1101\n",
       "3   abilene christian    1101\n",
       "4   abilene-christian    1101"
      ]
     },
     "execution_count": 8,
     "metadata": {},
     "output_type": "execute_result"
    }
   ],
   "source": [
    "teams_df.head()"
   ]
  },
  {
   "cell_type": "code",
   "execution_count": 9,
   "metadata": {},
   "outputs": [],
   "source": [
    "kp_df = pd.merge(kp_df, teams_df, left_on=['team'], right_on = ['TeamNameSpelling'], how='left')\n",
    "kp_df = kp_df.drop(['TeamNameSpelling'], axis=1)"
   ]
  },
  {
   "cell_type": "code",
   "execution_count": 10,
   "metadata": {},
   "outputs": [
    {
     "data": {
      "text/plain": [
       "2019    353\n",
       "2018    351\n",
       "2014    351\n",
       "2015    351\n",
       "2017    351\n",
       "2016    351\n",
       "2010    347\n",
       "2013    347\n",
       "2012    345\n",
       "2011    345\n",
       "2009    344\n",
       "2008    341\n",
       "2007    336\n",
       "2006    334\n",
       "2005    330\n",
       "2002    327\n",
       "2003    327\n",
       "2004    326\n",
       "Name: Season, dtype: int64"
      ]
     },
     "execution_count": 10,
     "metadata": {},
     "output_type": "execute_result"
    }
   ],
   "source": [
    "kp_df['Season'].value_counts(dropna=False)"
   ]
  },
  {
   "cell_type": "code",
   "execution_count": 11,
   "metadata": {},
   "outputs": [
    {
     "data": {
      "text/html": [
       "<div>\n",
       "<style scoped>\n",
       "    .dataframe tbody tr th:only-of-type {\n",
       "        vertical-align: middle;\n",
       "    }\n",
       "\n",
       "    .dataframe tbody tr th {\n",
       "        vertical-align: top;\n",
       "    }\n",
       "\n",
       "    .dataframe thead th {\n",
       "        text-align: right;\n",
       "    }\n",
       "</style>\n",
       "<table border=\"1\" class=\"dataframe\">\n",
       "  <thead>\n",
       "    <tr style=\"text-align: right;\">\n",
       "      <th></th>\n",
       "      <th>team</th>\n",
       "      <th>conf</th>\n",
       "      <th>adjem</th>\n",
       "      <th>adjo</th>\n",
       "      <th>adjd</th>\n",
       "      <th>luck</th>\n",
       "      <th>Season</th>\n",
       "      <th>TeamID</th>\n",
       "    </tr>\n",
       "  </thead>\n",
       "  <tbody>\n",
       "    <tr>\n",
       "      <th>0</th>\n",
       "      <td>virginia</td>\n",
       "      <td>ACC</td>\n",
       "      <td>35.66</td>\n",
       "      <td>123.6</td>\n",
       "      <td>87.9</td>\n",
       "      <td>0.024</td>\n",
       "      <td>2019</td>\n",
       "      <td>1438.0</td>\n",
       "    </tr>\n",
       "    <tr>\n",
       "      <th>1</th>\n",
       "      <td>gonzaga</td>\n",
       "      <td>WCC</td>\n",
       "      <td>32.79</td>\n",
       "      <td>125.1</td>\n",
       "      <td>92.3</td>\n",
       "      <td>0.008</td>\n",
       "      <td>2019</td>\n",
       "      <td>1211.0</td>\n",
       "    </tr>\n",
       "    <tr>\n",
       "      <th>2</th>\n",
       "      <td>duke</td>\n",
       "      <td>ACC</td>\n",
       "      <td>31.99</td>\n",
       "      <td>120.1</td>\n",
       "      <td>88.1</td>\n",
       "      <td>0.018</td>\n",
       "      <td>2019</td>\n",
       "      <td>1181.0</td>\n",
       "    </tr>\n",
       "    <tr>\n",
       "      <th>3</th>\n",
       "      <td>michigan st.</td>\n",
       "      <td>B10</td>\n",
       "      <td>31.36</td>\n",
       "      <td>121.7</td>\n",
       "      <td>90.4</td>\n",
       "      <td>-0.007</td>\n",
       "      <td>2019</td>\n",
       "      <td>1277.0</td>\n",
       "    </tr>\n",
       "    <tr>\n",
       "      <th>4</th>\n",
       "      <td>michigan</td>\n",
       "      <td>B10</td>\n",
       "      <td>29.44</td>\n",
       "      <td>115.5</td>\n",
       "      <td>86.1</td>\n",
       "      <td>-0.014</td>\n",
       "      <td>2019</td>\n",
       "      <td>1276.0</td>\n",
       "    </tr>\n",
       "  </tbody>\n",
       "</table>\n",
       "</div>"
      ],
      "text/plain": [
       "           team conf  adjem   adjo  adjd   luck  Season  TeamID\n",
       "0      virginia  ACC  35.66  123.6  87.9  0.024    2019  1438.0\n",
       "1       gonzaga  WCC  32.79  125.1  92.3  0.008    2019  1211.0\n",
       "2          duke  ACC  31.99  120.1  88.1  0.018    2019  1181.0\n",
       "3  michigan st.  B10  31.36  121.7  90.4 -0.007    2019  1277.0\n",
       "4      michigan  B10  29.44  115.5  86.1 -0.014    2019  1276.0"
      ]
     },
     "execution_count": 11,
     "metadata": {},
     "output_type": "execute_result"
    }
   ],
   "source": [
    "kp_df.head()"
   ]
  },
  {
   "cell_type": "markdown",
   "metadata": {},
   "source": [
    "# Write the data to a csv"
   ]
  },
  {
   "cell_type": "code",
   "execution_count": 12,
   "metadata": {},
   "outputs": [],
   "source": [
    "kp_df.to_csv('Data/~Created data/kp_all.csv', index=False)"
   ]
  }
 ],
 "metadata": {
  "kernelspec": {
   "display_name": "Python 3",
   "language": "python",
   "name": "python3"
  },
  "language_info": {
   "codemirror_mode": {
    "name": "ipython",
    "version": 3
   },
   "file_extension": ".py",
   "mimetype": "text/x-python",
   "name": "python",
   "nbconvert_exporter": "python",
   "pygments_lexer": "ipython3",
   "version": "3.6.5"
  }
 },
 "nbformat": 4,
 "nbformat_minor": 2
}
