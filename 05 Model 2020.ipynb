{
 "cells": [
  {
   "cell_type": "markdown",
   "metadata": {},
   "source": [
    "# Load packages"
   ]
  },
  {
   "cell_type": "markdown",
   "metadata": {},
   "source": [
    "# Load data"
   ]
  },
  {
   "cell_type": "code",
   "execution_count": 1,
   "metadata": {},
   "outputs": [],
   "source": [
    "import numpy as np\n",
    "import pandas as pd\n",
    "\n",
    "import matplotlib.pyplot as plt\n",
    "import seaborn as sns\n",
    "%matplotlib inline\n",
    "\n",
    "from collections import Counter\n",
    "\n",
    "from sklearn.neural_network import MLPClassifier\n",
    "from sklearn.preprocessing import StandardScaler\n",
    "from sklearn.ensemble import RandomForestClassifier\n",
    "from sklearn.linear_model import LogisticRegression\n",
    "from sklearn.model_selection import GridSearchCV, cross_val_score, StratifiedKFold, learning_curve, train_test_split\n",
    "from sklearn.metrics import brier_score_loss\n",
    "\n",
    "import xgboost as xgb\n",
    "from xgboost import XGBClassifier"
   ]
  },
  {
   "cell_type": "code",
   "execution_count": 120,
   "metadata": {},
   "outputs": [],
   "source": [
    "#all_games_df = pd.read_csv('Data/~Created data/all_games_df.csv')\n",
    "\n",
    "path = \"C:/Users/anovitt/AppData/Local/Programs/Python/Python36/Scripts/kaggle_mania_2020_men/google-cloud-ncaa-march-madness-2020-division-1-mens-tournament/\""
   ]
  },
  {
   "cell_type": "code",
   "execution_count": 121,
   "metadata": {},
   "outputs": [],
   "source": [
    "#data_matrix_df = pd.read_csv('data_matrix.csv')\n",
    "\n",
    "data_matrix_df = pd.read_csv(path + 'data_matrix.csv')\n",
    "sub_matrix_df = pd.read_csv(path + 'sub_matrix.csv')"
   ]
  },
  {
   "cell_type": "code",
   "execution_count": 122,
   "metadata": {},
   "outputs": [
    {
     "data": {
      "text/html": [
       "<div>\n",
       "<style scoped>\n",
       "    .dataframe tbody tr th:only-of-type {\n",
       "        vertical-align: middle;\n",
       "    }\n",
       "\n",
       "    .dataframe tbody tr th {\n",
       "        vertical-align: top;\n",
       "    }\n",
       "\n",
       "    .dataframe thead th {\n",
       "        text-align: right;\n",
       "    }\n",
       "</style>\n",
       "<table border=\"1\" class=\"dataframe\">\n",
       "  <thead>\n",
       "    <tr style=\"text-align: right;\">\n",
       "      <th></th>\n",
       "      <th>Season</th>\n",
       "      <th>DayNum</th>\n",
       "      <th>T1</th>\n",
       "      <th>T1_Points</th>\n",
       "      <th>T2</th>\n",
       "      <th>T2_Points</th>\n",
       "      <th>Location</th>\n",
       "      <th>ResultDiff</th>\n",
       "      <th>X1_WinRatio14d</th>\n",
       "      <th>X1_Points_mean</th>\n",
       "      <th>...</th>\n",
       "      <th>X2_OppFgaMin</th>\n",
       "      <th>X1_Seed</th>\n",
       "      <th>X2_Seed</th>\n",
       "      <th>SeedDiff</th>\n",
       "      <th>X1_quality_march</th>\n",
       "      <th>X2_quality_march</th>\n",
       "      <th>T1_AP</th>\n",
       "      <th>T2_AP</th>\n",
       "      <th>T1_25Wins</th>\n",
       "      <th>T2_25Wins</th>\n",
       "    </tr>\n",
       "  </thead>\n",
       "  <tbody>\n",
       "    <tr>\n",
       "      <th>0</th>\n",
       "      <td>2003</td>\n",
       "      <td>10</td>\n",
       "      <td>1104</td>\n",
       "      <td>68</td>\n",
       "      <td>1328</td>\n",
       "      <td>62</td>\n",
       "      <td>N</td>\n",
       "      <td>6</td>\n",
       "      <td>0.333333</td>\n",
       "      <td>69.285714</td>\n",
       "      <td>...</td>\n",
       "      <td>43</td>\n",
       "      <td>10</td>\n",
       "      <td>1</td>\n",
       "      <td>9</td>\n",
       "      <td>0.958527</td>\n",
       "      <td>1.044071</td>\n",
       "      <td>200.0</td>\n",
       "      <td>3.0</td>\n",
       "      <td>3</td>\n",
       "      <td>24</td>\n",
       "    </tr>\n",
       "    <tr>\n",
       "      <th>1</th>\n",
       "      <td>2003</td>\n",
       "      <td>10</td>\n",
       "      <td>1272</td>\n",
       "      <td>70</td>\n",
       "      <td>1393</td>\n",
       "      <td>63</td>\n",
       "      <td>N</td>\n",
       "      <td>7</td>\n",
       "      <td>0.750000</td>\n",
       "      <td>74.517241</td>\n",
       "      <td>...</td>\n",
       "      <td>52</td>\n",
       "      <td>7</td>\n",
       "      <td>3</td>\n",
       "      <td>4</td>\n",
       "      <td>1.049830</td>\n",
       "      <td>1.025533</td>\n",
       "      <td>19.0</td>\n",
       "      <td>13.0</td>\n",
       "      <td>23</td>\n",
       "      <td>24</td>\n",
       "    </tr>\n",
       "    <tr>\n",
       "      <th>2</th>\n",
       "      <td>2003</td>\n",
       "      <td>11</td>\n",
       "      <td>1266</td>\n",
       "      <td>73</td>\n",
       "      <td>1437</td>\n",
       "      <td>61</td>\n",
       "      <td>N</td>\n",
       "      <td>12</td>\n",
       "      <td>0.500000</td>\n",
       "      <td>78.392857</td>\n",
       "      <td>...</td>\n",
       "      <td>36</td>\n",
       "      <td>3</td>\n",
       "      <td>0</td>\n",
       "      <td>0</td>\n",
       "      <td>1.073925</td>\n",
       "      <td>0.000000</td>\n",
       "      <td>9.0</td>\n",
       "      <td>200.0</td>\n",
       "      <td>23</td>\n",
       "      <td>1</td>\n",
       "    </tr>\n",
       "  </tbody>\n",
       "</table>\n",
       "<p>3 rows × 129 columns</p>\n",
       "</div>"
      ],
      "text/plain": [
       "   Season  DayNum    T1  T1_Points    T2  T2_Points Location  ResultDiff  \\\n",
       "0    2003      10  1104         68  1328         62        N           6   \n",
       "1    2003      10  1272         70  1393         63        N           7   \n",
       "2    2003      11  1266         73  1437         61        N          12   \n",
       "\n",
       "   X1_WinRatio14d  X1_Points_mean  ...  X2_OppFgaMin  X1_Seed  X2_Seed  \\\n",
       "0        0.333333       69.285714  ...            43       10        1   \n",
       "1        0.750000       74.517241  ...            52        7        3   \n",
       "2        0.500000       78.392857  ...            36        3        0   \n",
       "\n",
       "   SeedDiff  X1_quality_march  X2_quality_march  T1_AP  T2_AP  T1_25Wins  \\\n",
       "0         9          0.958527          1.044071  200.0    3.0          3   \n",
       "1         4          1.049830          1.025533   19.0   13.0         23   \n",
       "2         0          1.073925          0.000000    9.0  200.0         23   \n",
       "\n",
       "   T2_25Wins  \n",
       "0         24  \n",
       "1         24  \n",
       "2          1  \n",
       "\n",
       "[3 rows x 129 columns]"
      ]
     },
     "execution_count": 122,
     "metadata": {},
     "output_type": "execute_result"
    }
   ],
   "source": [
    "data_matrix_df.head(3)"
   ]
  },
  {
   "cell_type": "code",
   "execution_count": 123,
   "metadata": {},
   "outputs": [],
   "source": [
    "XX_train = data_matrix_df.drop(['Season','DayNum','T1','T1_Points','T2','T2_Points','Location','ResultDiff','T1_AP','T2_AP'],axis =1)"
   ]
  },
  {
   "cell_type": "code",
   "execution_count": 124,
   "metadata": {},
   "outputs": [
    {
     "data": {
      "text/html": [
       "<div>\n",
       "<style scoped>\n",
       "    .dataframe tbody tr th:only-of-type {\n",
       "        vertical-align: middle;\n",
       "    }\n",
       "\n",
       "    .dataframe tbody tr th {\n",
       "        vertical-align: top;\n",
       "    }\n",
       "\n",
       "    .dataframe thead th {\n",
       "        text-align: right;\n",
       "    }\n",
       "</style>\n",
       "<table border=\"1\" class=\"dataframe\">\n",
       "  <thead>\n",
       "    <tr style=\"text-align: right;\">\n",
       "      <th></th>\n",
       "      <th>X1_WinRatio14d</th>\n",
       "      <th>X1_Points_mean</th>\n",
       "      <th>X1_Points_sd</th>\n",
       "      <th>X1_Points_median</th>\n",
       "      <th>X1_fgm_mean</th>\n",
       "      <th>X1_fga_mean</th>\n",
       "      <th>X1_fgp</th>\n",
       "      <th>X1_fgm3_mean</th>\n",
       "      <th>X1_fga3_mean</th>\n",
       "      <th>X1_fg3p</th>\n",
       "      <th>...</th>\n",
       "      <th>X2_OppFgm3Mean</th>\n",
       "      <th>X2_OppFga3Mean</th>\n",
       "      <th>X2_OppFgaMin</th>\n",
       "      <th>X1_Seed</th>\n",
       "      <th>X2_Seed</th>\n",
       "      <th>SeedDiff</th>\n",
       "      <th>X1_quality_march</th>\n",
       "      <th>X2_quality_march</th>\n",
       "      <th>T1_25Wins</th>\n",
       "      <th>T2_25Wins</th>\n",
       "    </tr>\n",
       "  </thead>\n",
       "  <tbody>\n",
       "    <tr>\n",
       "      <th>0</th>\n",
       "      <td>0.333333</td>\n",
       "      <td>69.285714</td>\n",
       "      <td>11.375273</td>\n",
       "      <td>69.0</td>\n",
       "      <td>24.035714</td>\n",
       "      <td>57.178571</td>\n",
       "      <td>0.420362</td>\n",
       "      <td>6.357143</td>\n",
       "      <td>19.857143</td>\n",
       "      <td>0.320144</td>\n",
       "      <td>...</td>\n",
       "      <td>4.433333</td>\n",
       "      <td>13.566667</td>\n",
       "      <td>43</td>\n",
       "      <td>10</td>\n",
       "      <td>1</td>\n",
       "      <td>9</td>\n",
       "      <td>0.958527</td>\n",
       "      <td>1.044071</td>\n",
       "      <td>3</td>\n",
       "      <td>24</td>\n",
       "    </tr>\n",
       "    <tr>\n",
       "      <th>1</th>\n",
       "      <td>0.750000</td>\n",
       "      <td>74.517241</td>\n",
       "      <td>8.724435</td>\n",
       "      <td>73.0</td>\n",
       "      <td>26.275862</td>\n",
       "      <td>60.000000</td>\n",
       "      <td>0.437931</td>\n",
       "      <td>7.000000</td>\n",
       "      <td>20.068966</td>\n",
       "      <td>0.348797</td>\n",
       "      <td>...</td>\n",
       "      <td>6.931034</td>\n",
       "      <td>22.586207</td>\n",
       "      <td>52</td>\n",
       "      <td>7</td>\n",
       "      <td>3</td>\n",
       "      <td>4</td>\n",
       "      <td>1.049830</td>\n",
       "      <td>1.025533</td>\n",
       "      <td>23</td>\n",
       "      <td>24</td>\n",
       "    </tr>\n",
       "    <tr>\n",
       "      <th>2</th>\n",
       "      <td>0.500000</td>\n",
       "      <td>78.392857</td>\n",
       "      <td>12.154375</td>\n",
       "      <td>75.5</td>\n",
       "      <td>27.214286</td>\n",
       "      <td>56.250000</td>\n",
       "      <td>0.483810</td>\n",
       "      <td>5.785714</td>\n",
       "      <td>15.250000</td>\n",
       "      <td>0.379391</td>\n",
       "      <td>...</td>\n",
       "      <td>7.266667</td>\n",
       "      <td>19.366667</td>\n",
       "      <td>36</td>\n",
       "      <td>3</td>\n",
       "      <td>0</td>\n",
       "      <td>0</td>\n",
       "      <td>1.073925</td>\n",
       "      <td>0.000000</td>\n",
       "      <td>23</td>\n",
       "      <td>1</td>\n",
       "    </tr>\n",
       "  </tbody>\n",
       "</table>\n",
       "<p>3 rows × 119 columns</p>\n",
       "</div>"
      ],
      "text/plain": [
       "   X1_WinRatio14d  X1_Points_mean  X1_Points_sd  X1_Points_median  \\\n",
       "0        0.333333       69.285714     11.375273              69.0   \n",
       "1        0.750000       74.517241      8.724435              73.0   \n",
       "2        0.500000       78.392857     12.154375              75.5   \n",
       "\n",
       "   X1_fgm_mean  X1_fga_mean    X1_fgp  X1_fgm3_mean  X1_fga3_mean   X1_fg3p  \\\n",
       "0    24.035714    57.178571  0.420362      6.357143     19.857143  0.320144   \n",
       "1    26.275862    60.000000  0.437931      7.000000     20.068966  0.348797   \n",
       "2    27.214286    56.250000  0.483810      5.785714     15.250000  0.379391   \n",
       "\n",
       "   ...  X2_OppFgm3Mean  X2_OppFga3Mean  X2_OppFgaMin  X1_Seed  X2_Seed  \\\n",
       "0  ...        4.433333       13.566667            43       10        1   \n",
       "1  ...        6.931034       22.586207            52        7        3   \n",
       "2  ...        7.266667       19.366667            36        3        0   \n",
       "\n",
       "   SeedDiff  X1_quality_march  X2_quality_march  T1_25Wins  T2_25Wins  \n",
       "0         9          0.958527          1.044071          3         24  \n",
       "1         4          1.049830          1.025533         23         24  \n",
       "2         0          1.073925          0.000000         23          1  \n",
       "\n",
       "[3 rows x 119 columns]"
      ]
     },
     "execution_count": 124,
     "metadata": {},
     "output_type": "execute_result"
    }
   ],
   "source": [
    "XX_train.head(3)"
   ]
  },
  {
   "cell_type": "code",
   "execution_count": 125,
   "metadata": {},
   "outputs": [
    {
     "data": {
      "text/html": [
       "<div>\n",
       "<style scoped>\n",
       "    .dataframe tbody tr th:only-of-type {\n",
       "        vertical-align: middle;\n",
       "    }\n",
       "\n",
       "    .dataframe tbody tr th {\n",
       "        vertical-align: top;\n",
       "    }\n",
       "\n",
       "    .dataframe thead th {\n",
       "        text-align: right;\n",
       "    }\n",
       "</style>\n",
       "<table border=\"1\" class=\"dataframe\">\n",
       "  <thead>\n",
       "    <tr style=\"text-align: right;\">\n",
       "      <th></th>\n",
       "      <th>Unnamed: 0</th>\n",
       "      <th>ID</th>\n",
       "      <th>Pred</th>\n",
       "      <th>Season</th>\n",
       "      <th>T1</th>\n",
       "      <th>T2</th>\n",
       "      <th>X1_WinRatio14d</th>\n",
       "      <th>X1_Points_mean</th>\n",
       "      <th>X1_Points_sd</th>\n",
       "      <th>X1_Points_median</th>\n",
       "      <th>...</th>\n",
       "      <th>X2_OppFgaMin</th>\n",
       "      <th>X1_Seed</th>\n",
       "      <th>X2_Seed</th>\n",
       "      <th>SeedDiff</th>\n",
       "      <th>X1_quality_march</th>\n",
       "      <th>X2_quality_march</th>\n",
       "      <th>T1_AP</th>\n",
       "      <th>T2_AP</th>\n",
       "      <th>T1_25Wins</th>\n",
       "      <th>T2_25Wins</th>\n",
       "    </tr>\n",
       "  </thead>\n",
       "  <tbody>\n",
       "    <tr>\n",
       "      <th>0</th>\n",
       "      <td>1</td>\n",
       "      <td>2015_1107_1112</td>\n",
       "      <td>0.5</td>\n",
       "      <td>2015</td>\n",
       "      <td>1107</td>\n",
       "      <td>1112</td>\n",
       "      <td>1.0</td>\n",
       "      <td>65.5</td>\n",
       "      <td>9.235276</td>\n",
       "      <td>64.0</td>\n",
       "      <td>...</td>\n",
       "      <td>39</td>\n",
       "      <td>14</td>\n",
       "      <td>2</td>\n",
       "      <td>12</td>\n",
       "      <td>0.74543</td>\n",
       "      <td>2.928111</td>\n",
       "      <td>200</td>\n",
       "      <td>200</td>\n",
       "      <td>0</td>\n",
       "      <td>0</td>\n",
       "    </tr>\n",
       "    <tr>\n",
       "      <th>1</th>\n",
       "      <td>2</td>\n",
       "      <td>2015_1107_1116</td>\n",
       "      <td>0.5</td>\n",
       "      <td>2015</td>\n",
       "      <td>1107</td>\n",
       "      <td>1116</td>\n",
       "      <td>1.0</td>\n",
       "      <td>65.5</td>\n",
       "      <td>9.235276</td>\n",
       "      <td>64.0</td>\n",
       "      <td>...</td>\n",
       "      <td>45</td>\n",
       "      <td>14</td>\n",
       "      <td>5</td>\n",
       "      <td>9</td>\n",
       "      <td>0.74543</td>\n",
       "      <td>1.189625</td>\n",
       "      <td>200</td>\n",
       "      <td>21</td>\n",
       "      <td>0</td>\n",
       "      <td>26</td>\n",
       "    </tr>\n",
       "    <tr>\n",
       "      <th>2</th>\n",
       "      <td>3</td>\n",
       "      <td>2015_1107_1124</td>\n",
       "      <td>0.5</td>\n",
       "      <td>2015</td>\n",
       "      <td>1107</td>\n",
       "      <td>1124</td>\n",
       "      <td>1.0</td>\n",
       "      <td>65.5</td>\n",
       "      <td>9.235276</td>\n",
       "      <td>64.0</td>\n",
       "      <td>...</td>\n",
       "      <td>39</td>\n",
       "      <td>14</td>\n",
       "      <td>3</td>\n",
       "      <td>11</td>\n",
       "      <td>0.74543</td>\n",
       "      <td>1.702049</td>\n",
       "      <td>200</td>\n",
       "      <td>200</td>\n",
       "      <td>0</td>\n",
       "      <td>0</td>\n",
       "    </tr>\n",
       "  </tbody>\n",
       "</table>\n",
       "<p>3 rows × 127 columns</p>\n",
       "</div>"
      ],
      "text/plain": [
       "   Unnamed: 0              ID  Pred  Season    T1    T2  X1_WinRatio14d  \\\n",
       "0           1  2015_1107_1112   0.5    2015  1107  1112             1.0   \n",
       "1           2  2015_1107_1116   0.5    2015  1107  1116             1.0   \n",
       "2           3  2015_1107_1124   0.5    2015  1107  1124             1.0   \n",
       "\n",
       "   X1_Points_mean  X1_Points_sd  X1_Points_median  ...  X2_OppFgaMin  X1_Seed  \\\n",
       "0            65.5      9.235276              64.0  ...            39       14   \n",
       "1            65.5      9.235276              64.0  ...            45       14   \n",
       "2            65.5      9.235276              64.0  ...            39       14   \n",
       "\n",
       "   X2_Seed  SeedDiff  X1_quality_march  X2_quality_march  T1_AP  T2_AP  \\\n",
       "0        2        12           0.74543          2.928111    200    200   \n",
       "1        5         9           0.74543          1.189625    200     21   \n",
       "2        3        11           0.74543          1.702049    200    200   \n",
       "\n",
       "   T1_25Wins  T2_25Wins  \n",
       "0          0          0  \n",
       "1          0         26  \n",
       "2          0          0  \n",
       "\n",
       "[3 rows x 127 columns]"
      ]
     },
     "execution_count": 125,
     "metadata": {},
     "output_type": "execute_result"
    }
   ],
   "source": [
    "sub_matrix_df.head(3)"
   ]
  },
  {
   "cell_type": "code",
   "execution_count": 126,
   "metadata": {},
   "outputs": [],
   "source": [
    "X_test = sub_matrix_df.drop(['Season','ID','T1','T2','Pred','Unnamed: 0','T1_AP','T2_AP'],axis =1)"
   ]
  },
  {
   "cell_type": "code",
   "execution_count": 127,
   "metadata": {},
   "outputs": [
    {
     "data": {
      "text/html": [
       "<div>\n",
       "<style scoped>\n",
       "    .dataframe tbody tr th:only-of-type {\n",
       "        vertical-align: middle;\n",
       "    }\n",
       "\n",
       "    .dataframe tbody tr th {\n",
       "        vertical-align: top;\n",
       "    }\n",
       "\n",
       "    .dataframe thead th {\n",
       "        text-align: right;\n",
       "    }\n",
       "</style>\n",
       "<table border=\"1\" class=\"dataframe\">\n",
       "  <thead>\n",
       "    <tr style=\"text-align: right;\">\n",
       "      <th></th>\n",
       "      <th>X1_WinRatio14d</th>\n",
       "      <th>X1_Points_mean</th>\n",
       "      <th>X1_Points_sd</th>\n",
       "      <th>X1_Points_median</th>\n",
       "      <th>X1_fgm_mean</th>\n",
       "      <th>X1_fga_mean</th>\n",
       "      <th>X1_fgp</th>\n",
       "      <th>X1_fgm3_mean</th>\n",
       "      <th>X1_fga3_mean</th>\n",
       "      <th>X1_fg3p</th>\n",
       "      <th>...</th>\n",
       "      <th>X2_OppFgm3Mean</th>\n",
       "      <th>X2_OppFga3Mean</th>\n",
       "      <th>X2_OppFgaMin</th>\n",
       "      <th>X1_Seed</th>\n",
       "      <th>X2_Seed</th>\n",
       "      <th>SeedDiff</th>\n",
       "      <th>X1_quality_march</th>\n",
       "      <th>X2_quality_march</th>\n",
       "      <th>T1_25Wins</th>\n",
       "      <th>T2_25Wins</th>\n",
       "    </tr>\n",
       "  </thead>\n",
       "  <tbody>\n",
       "    <tr>\n",
       "      <th>0</th>\n",
       "      <td>1.0</td>\n",
       "      <td>65.5</td>\n",
       "      <td>9.235276</td>\n",
       "      <td>64.0</td>\n",
       "      <td>22.0625</td>\n",
       "      <td>50.15625</td>\n",
       "      <td>0.439875</td>\n",
       "      <td>6.15625</td>\n",
       "      <td>17.09375</td>\n",
       "      <td>0.360146</td>\n",
       "      <td>...</td>\n",
       "      <td>5.323529</td>\n",
       "      <td>16.205882</td>\n",
       "      <td>39</td>\n",
       "      <td>14</td>\n",
       "      <td>2</td>\n",
       "      <td>12</td>\n",
       "      <td>0.74543</td>\n",
       "      <td>2.928111</td>\n",
       "      <td>0</td>\n",
       "      <td>0</td>\n",
       "    </tr>\n",
       "    <tr>\n",
       "      <th>1</th>\n",
       "      <td>1.0</td>\n",
       "      <td>65.5</td>\n",
       "      <td>9.235276</td>\n",
       "      <td>64.0</td>\n",
       "      <td>22.0625</td>\n",
       "      <td>50.15625</td>\n",
       "      <td>0.439875</td>\n",
       "      <td>6.15625</td>\n",
       "      <td>17.09375</td>\n",
       "      <td>0.360146</td>\n",
       "      <td>...</td>\n",
       "      <td>6.235294</td>\n",
       "      <td>17.647059</td>\n",
       "      <td>45</td>\n",
       "      <td>14</td>\n",
       "      <td>5</td>\n",
       "      <td>9</td>\n",
       "      <td>0.74543</td>\n",
       "      <td>1.189625</td>\n",
       "      <td>0</td>\n",
       "      <td>26</td>\n",
       "    </tr>\n",
       "    <tr>\n",
       "      <th>2</th>\n",
       "      <td>1.0</td>\n",
       "      <td>65.5</td>\n",
       "      <td>9.235276</td>\n",
       "      <td>64.0</td>\n",
       "      <td>22.0625</td>\n",
       "      <td>50.15625</td>\n",
       "      <td>0.439875</td>\n",
       "      <td>6.15625</td>\n",
       "      <td>17.09375</td>\n",
       "      <td>0.360146</td>\n",
       "      <td>...</td>\n",
       "      <td>5.718750</td>\n",
       "      <td>19.250000</td>\n",
       "      <td>39</td>\n",
       "      <td>14</td>\n",
       "      <td>3</td>\n",
       "      <td>11</td>\n",
       "      <td>0.74543</td>\n",
       "      <td>1.702049</td>\n",
       "      <td>0</td>\n",
       "      <td>0</td>\n",
       "    </tr>\n",
       "  </tbody>\n",
       "</table>\n",
       "<p>3 rows × 119 columns</p>\n",
       "</div>"
      ],
      "text/plain": [
       "   X1_WinRatio14d  X1_Points_mean  X1_Points_sd  X1_Points_median  \\\n",
       "0             1.0            65.5      9.235276              64.0   \n",
       "1             1.0            65.5      9.235276              64.0   \n",
       "2             1.0            65.5      9.235276              64.0   \n",
       "\n",
       "   X1_fgm_mean  X1_fga_mean    X1_fgp  X1_fgm3_mean  X1_fga3_mean   X1_fg3p  \\\n",
       "0      22.0625     50.15625  0.439875       6.15625      17.09375  0.360146   \n",
       "1      22.0625     50.15625  0.439875       6.15625      17.09375  0.360146   \n",
       "2      22.0625     50.15625  0.439875       6.15625      17.09375  0.360146   \n",
       "\n",
       "   ...  X2_OppFgm3Mean  X2_OppFga3Mean  X2_OppFgaMin  X1_Seed  X2_Seed  \\\n",
       "0  ...        5.323529       16.205882            39       14        2   \n",
       "1  ...        6.235294       17.647059            45       14        5   \n",
       "2  ...        5.718750       19.250000            39       14        3   \n",
       "\n",
       "   SeedDiff  X1_quality_march  X2_quality_march  T1_25Wins  T2_25Wins  \n",
       "0        12           0.74543          2.928111          0          0  \n",
       "1         9           0.74543          1.189625          0         26  \n",
       "2        11           0.74543          1.702049          0          0  \n",
       "\n",
       "[3 rows x 119 columns]"
      ]
     },
     "execution_count": 127,
     "metadata": {},
     "output_type": "execute_result"
    }
   ],
   "source": [
    "X_test.head(3)"
   ]
  },
  {
   "cell_type": "code",
   "execution_count": 128,
   "metadata": {},
   "outputs": [],
   "source": [
    "\n",
    "data_matrix_df['Win'] = 0\n",
    "\n",
    "data_matrix_df.loc[data_matrix_df['T1_Points'] > data_matrix_df['T2_Points']] = 1\n"
   ]
  },
  {
   "cell_type": "code",
   "execution_count": 129,
   "metadata": {},
   "outputs": [],
   "source": [
    "yy_train = data_matrix_df['Win']"
   ]
  },
  {
   "cell_type": "code",
   "execution_count": 130,
   "metadata": {},
   "outputs": [],
   "source": [
    "X_train, X_val, y_train, y_val = train_test_split(XX_train, yy_train, test_size=0.25, random_state=42)\n",
    "\n",
    "\n",
    "#X_train, X_test, y_train, y_test = train_test_split(X, y, test_size=0.33, random_state=42)"
   ]
  },
  {
   "cell_type": "markdown",
   "metadata": {},
   "source": [
    "Note: test is 2019 predictions but our \"test\" holdout set is referred to as \"valid\" "
   ]
  },
  {
   "cell_type": "code",
   "execution_count": 131,
   "metadata": {},
   "outputs": [],
   "source": [
    "X_test = X_test.astype(\"float64\")\n",
    "XX_train = XX_train.astype(\"float64\")\n",
    "X_train = X_train.astype(\"float64\")\n",
    "X_val = X_val.astype(\"float64\")\n",
    "#y_train = y_train.astype(\"float64\")\n",
    "#y_val = y_val.astype(\"float64\")"
   ]
  },
  {
   "cell_type": "markdown",
   "metadata": {},
   "source": [
    "# Scoring rules and two benchmarks"
   ]
  },
  {
   "cell_type": "code",
   "execution_count": 132,
   "metadata": {},
   "outputs": [],
   "source": [
    "def LogLoss(predictions, realizations):\n",
    "    predictions_use = predictions.clip(0)\n",
    "    realizations_use = realizations.clip(0)\n",
    "    LogLoss = -np.mean( (realizations_use * np.log(predictions_use)) + \n",
    "                        (1 - realizations_use) * np.log(1 - predictions_use) )\n",
    "    return LogLoss"
   ]
  },
  {
   "cell_type": "markdown",
   "metadata": {},
   "source": [
    "# Fit a neural network (with and without line)"
   ]
  },
  {
   "cell_type": "markdown",
   "metadata": {},
   "source": [
    "Normalize data (using z-scores) before neural network"
   ]
  },
  {
   "cell_type": "code",
   "execution_count": 133,
   "metadata": {},
   "outputs": [],
   "source": [
    "scaler = StandardScaler()\n",
    "scaler.fit(X_train)  # Fit only to the training data\n",
    "scaler.fit(X_val)\n",
    "scaler.fit(X_test)\n",
    "scaler.fit(XX_train)\n",
    "scaled_X_train = pd.DataFrame(scaler.transform(X_train), index=X_train.index, columns=X_train.columns)\n",
    "scaled_XX_train = pd.DataFrame(scaler.transform(XX_train), index=XX_train.index, columns=X_train.columns)\n",
    "scaled_X_valid = pd.DataFrame(scaler.transform(X_val), index=X_val.index, columns=X_val.columns)\n",
    "scaled_X_test = pd.DataFrame(scaler.transform(X_test), index=X_test.index, columns=X_test.columns)"
   ]
  },
  {
   "cell_type": "code",
   "execution_count": 106,
   "metadata": {},
   "outputs": [],
   "source": [
    "#scaled_X_train[scaled_X_train.isna().any(axis=1)]\n",
    "\n",
    "#df[df.isna().any(axis=1)]"
   ]
  },
  {
   "cell_type": "markdown",
   "metadata": {},
   "source": [
    "With line (note: we won't have line in the rounds after the first, but we could use this for the first round only like Lopez and Matthews did) "
   ]
  },
  {
   "cell_type": "code",
   "execution_count": 134,
   "metadata": {},
   "outputs": [],
   "source": [
    "#Note: I tried logistic activation and different combinations of hidden layers/nodes\n",
    "#Hyperparameters below minimized the log loss in the holdout set\n",
    "#I also submited a prediction with 10 nodes in the first layer, but this is the submission that placed 4th (w/ 8 in 1st)\n",
    "nn = MLPClassifier(activation='relu', hidden_layer_sizes=(8,5,3),random_state=201, max_iter=1000)\n",
    "nn.fit(scaled_X_train,y_train)\n",
    "nn_pred = pd.DataFrame(nn.predict_proba(scaled_X_valid))[1]"
   ]
  },
  {
   "cell_type": "code",
   "execution_count": 135,
   "metadata": {},
   "outputs": [
    {
     "data": {
      "text/plain": [
       "0.9844406167456764"
      ]
     },
     "execution_count": 135,
     "metadata": {},
     "output_type": "execute_result"
    }
   ],
   "source": [
    "LogLoss(nn_pred, y_val)"
   ]
  },
  {
   "cell_type": "code",
   "execution_count": 136,
   "metadata": {},
   "outputs": [],
   "source": [
    "#try second holdout (does worse, but still better than baseline of 54)\n",
    "nn = MLPClassifier(activation='relu', hidden_layer_sizes=(8,8,5,3),random_state=201, max_iter=1000)\n",
    "nn.fit(scaled_X_train,y_train)\n",
    "nn_pred = pd.DataFrame(nn.predict_proba(scaled_X_valid))[1]"
   ]
  },
  {
   "cell_type": "code",
   "execution_count": 137,
   "metadata": {},
   "outputs": [
    {
     "data": {
      "text/plain": [
       "(121036, 119)"
      ]
     },
     "execution_count": 137,
     "metadata": {},
     "output_type": "execute_result"
    }
   ],
   "source": [
    "scaled_XX_train.shape"
   ]
  },
  {
   "cell_type": "code",
   "execution_count": 138,
   "metadata": {},
   "outputs": [
    {
     "data": {
      "text/plain": [
       "(121036,)"
      ]
     },
     "execution_count": 138,
     "metadata": {},
     "output_type": "execute_result"
    }
   ],
   "source": [
    "yy_train.shape"
   ]
  },
  {
   "cell_type": "code",
   "execution_count": 139,
   "metadata": {},
   "outputs": [],
   "source": [
    "#try second holdout (does worse, but still better than baseline of 54)\n",
    "nn = MLPClassifier(activation='relu', hidden_layer_sizes=(8,8,5,3),random_state=201, max_iter=1000)\n",
    "nn.fit(scaled_XX_train,yy_train)\n",
    "nn_pred_test = pd.DataFrame(nn.predict_proba(scaled_X_test))[1]"
   ]
  },
  {
   "cell_type": "code",
   "execution_count": 90,
   "metadata": {},
   "outputs": [
    {
     "data": {
      "text/plain": [
       "0.9180835196508232"
      ]
     },
     "execution_count": 90,
     "metadata": {},
     "output_type": "execute_result"
    }
   ],
   "source": [
    "LogLoss(nn_pred, y_val)"
   ]
  },
  {
   "cell_type": "code",
   "execution_count": 140,
   "metadata": {},
   "outputs": [],
   "source": [
    "# write out prob csv file\n",
    "\n",
    "nn_pred_test.to_csv(path + 'submitProb.csv', index=False)"
   ]
  },
  {
   "cell_type": "markdown",
   "metadata": {},
   "source": [
    "Without line"
   ]
  },
  {
   "cell_type": "markdown",
   "metadata": {},
   "source": [
    "# Create test predictions"
   ]
  },
  {
   "cell_type": "code",
   "execution_count": 35,
   "metadata": {},
   "outputs": [],
   "source": [
    "#Note: I'm predicting home (lower seed) win probability. Need to convert to be consistent with output file (lower team ID)\n",
    "second_rd_submission = pd.merge(test_combos_df, second_rd_submission_all, left_index=True, right_index=True)"
   ]
  },
  {
   "cell_type": "code",
   "execution_count": 36,
   "metadata": {},
   "outputs": [],
   "source": [
    "second_rd_submission.loc[second_rd_submission['HTeamID']<second_rd_submission['RTeamID'], 'pred'] = second_rd_submission[1]\n",
    "second_rd_submission.loc[second_rd_submission['HTeamID']>second_rd_submission['RTeamID'], 'pred'] = second_rd_submission[0]"
   ]
  },
  {
   "cell_type": "code",
   "execution_count": 37,
   "metadata": {},
   "outputs": [],
   "source": [
    "second_rd_submission.to_csv('Data/~Created data/second_rd_submission_all.csv', index=False)"
   ]
  },
  {
   "cell_type": "code",
   "execution_count": 38,
   "metadata": {},
   "outputs": [],
   "source": [
    "second_rd_submission = second_rd_submission[['ID','pred']]"
   ]
  },
  {
   "cell_type": "code",
   "execution_count": 39,
   "metadata": {},
   "outputs": [
    {
     "data": {
      "text/html": [
       "<div>\n",
       "<style scoped>\n",
       "    .dataframe tbody tr th:only-of-type {\n",
       "        vertical-align: middle;\n",
       "    }\n",
       "\n",
       "    .dataframe tbody tr th {\n",
       "        vertical-align: top;\n",
       "    }\n",
       "\n",
       "    .dataframe thead th {\n",
       "        text-align: right;\n",
       "    }\n",
       "</style>\n",
       "<table border=\"1\" class=\"dataframe\">\n",
       "  <thead>\n",
       "    <tr style=\"text-align: right;\">\n",
       "      <th></th>\n",
       "      <th>ID</th>\n",
       "      <th>pred</th>\n",
       "    </tr>\n",
       "  </thead>\n",
       "  <tbody>\n",
       "    <tr>\n",
       "      <th>0</th>\n",
       "      <td>2019_1101_1113</td>\n",
       "      <td>0.190039</td>\n",
       "    </tr>\n",
       "    <tr>\n",
       "      <th>1</th>\n",
       "      <td>2019_1101_1120</td>\n",
       "      <td>0.078436</td>\n",
       "    </tr>\n",
       "    <tr>\n",
       "      <th>2</th>\n",
       "      <td>2019_1101_1124</td>\n",
       "      <td>0.122828</td>\n",
       "    </tr>\n",
       "    <tr>\n",
       "      <th>3</th>\n",
       "      <td>2019_1101_1125</td>\n",
       "      <td>0.153890</td>\n",
       "    </tr>\n",
       "    <tr>\n",
       "      <th>4</th>\n",
       "      <td>2019_1101_1133</td>\n",
       "      <td>0.675128</td>\n",
       "    </tr>\n",
       "  </tbody>\n",
       "</table>\n",
       "</div>"
      ],
      "text/plain": [
       "               ID      pred\n",
       "0  2019_1101_1113  0.190039\n",
       "1  2019_1101_1120  0.078436\n",
       "2  2019_1101_1124  0.122828\n",
       "3  2019_1101_1125  0.153890\n",
       "4  2019_1101_1133  0.675128"
      ]
     },
     "execution_count": 39,
     "metadata": {},
     "output_type": "execute_result"
    }
   ],
   "source": [
    "second_rd_submission.head()"
   ]
  },
  {
   "cell_type": "code",
   "execution_count": 40,
   "metadata": {},
   "outputs": [
    {
     "data": {
      "text/html": [
       "<div>\n",
       "<style scoped>\n",
       "    .dataframe tbody tr th:only-of-type {\n",
       "        vertical-align: middle;\n",
       "    }\n",
       "\n",
       "    .dataframe tbody tr th {\n",
       "        vertical-align: top;\n",
       "    }\n",
       "\n",
       "    .dataframe thead th {\n",
       "        text-align: right;\n",
       "    }\n",
       "</style>\n",
       "<table border=\"1\" class=\"dataframe\">\n",
       "  <thead>\n",
       "    <tr style=\"text-align: right;\">\n",
       "      <th></th>\n",
       "      <th>ID</th>\n",
       "      <th>pred</th>\n",
       "    </tr>\n",
       "  </thead>\n",
       "  <tbody>\n",
       "    <tr>\n",
       "      <th>2273</th>\n",
       "      <td>2019_1449_1459</td>\n",
       "      <td>0.264454</td>\n",
       "    </tr>\n",
       "    <tr>\n",
       "      <th>2274</th>\n",
       "      <td>2019_1449_1463</td>\n",
       "      <td>0.674249</td>\n",
       "    </tr>\n",
       "    <tr>\n",
       "      <th>2275</th>\n",
       "      <td>2019_1458_1459</td>\n",
       "      <td>0.332634</td>\n",
       "    </tr>\n",
       "    <tr>\n",
       "      <th>2276</th>\n",
       "      <td>2019_1458_1463</td>\n",
       "      <td>0.896041</td>\n",
       "    </tr>\n",
       "    <tr>\n",
       "      <th>2277</th>\n",
       "      <td>2019_1459_1463</td>\n",
       "      <td>0.881246</td>\n",
       "    </tr>\n",
       "  </tbody>\n",
       "</table>\n",
       "</div>"
      ],
      "text/plain": [
       "                  ID      pred\n",
       "2273  2019_1449_1459  0.264454\n",
       "2274  2019_1449_1463  0.674249\n",
       "2275  2019_1458_1459  0.332634\n",
       "2276  2019_1458_1463  0.896041\n",
       "2277  2019_1459_1463  0.881246"
      ]
     },
     "execution_count": 40,
     "metadata": {},
     "output_type": "execute_result"
    }
   ],
   "source": [
    "second_rd_submission.tail()"
   ]
  },
  {
   "cell_type": "code",
   "execution_count": 41,
   "metadata": {},
   "outputs": [],
   "source": [
    "#Export to submit to Kaggle\n",
    "second_rd_submission.to_csv('Data/~Created data/second_rd_submission.csv', index=False)"
   ]
  },
  {
   "cell_type": "markdown",
   "metadata": {},
   "source": [
    "# Other models"
   ]
  },
  {
   "cell_type": "markdown",
   "metadata": {},
   "source": [
    "No model performed as well as the neural network"
   ]
  },
  {
   "cell_type": "markdown",
   "metadata": {},
   "source": [
    "XGBoost"
   ]
  },
  {
   "cell_type": "code",
   "execution_count": 42,
   "metadata": {},
   "outputs": [
    {
     "name": "stderr",
     "output_type": "stream",
     "text": [
      "C:\\Users\\dlorenz\\AppData\\Local\\Continuum\\anaconda3\\lib\\site-packages\\xgboost\\core.py:587: FutureWarning: Series.base is deprecated and will be removed in a future version\n",
      "  if getattr(data, 'base', None) is not None and \\\n",
      "C:\\Users\\dlorenz\\AppData\\Local\\Continuum\\anaconda3\\lib\\site-packages\\xgboost\\core.py:588: FutureWarning: Series.base is deprecated and will be removed in a future version\n",
      "  data.base is not None and isinstance(data, np.ndarray) \\\n"
     ]
    }
   ],
   "source": [
    "X_train = X_train[['is_tourney', 'Hwins_top25','Rwins_top25','HPointMargin','RPointMargin','HFG','RFG','HFG3','RFG3','HRankPOM','RRankPOM','Hadjem','Hadjo','Hadjd','Hluck','Radjem','Radjo','Radjd','Rluck','Htourny20plus','Rtourny20plus','HBig4Conf','RBig4Conf', 'HSeed','RSeed']]\n",
    "X_valid= X_valid[['is_tourney', 'Hwins_top25','Rwins_top25','HPointMargin','RPointMargin','HFG','RFG','HFG3','RFG3','HRankPOM','RRankPOM','Hadjem','Hadjo','Hadjd','Hluck','Radjem','Radjo','Radjd','Rluck','Htourny20plus','Rtourny20plus','HBig4Conf','RBig4Conf', 'HSeed','RSeed']]\n",
    "X_train_xgb = xgb.DMatrix(X_train, label = y_train)\n",
    "X_valid_xgb = xgb.DMatrix(X_valid)"
   ]
  },
  {
   "cell_type": "code",
   "execution_count": 43,
   "metadata": {},
   "outputs": [],
   "source": [
    "num_round_for_cv = 1000\n",
    "param = {'max_depth':3, 'eta':0.01, 'seed':201, 'objective':'binary:logistic', 'nthread':2}"
   ]
  },
  {
   "cell_type": "code",
   "execution_count": 44,
   "metadata": {},
   "outputs": [],
   "source": [
    "p = xgb.cv(param,\n",
    "       X_train_xgb,\n",
    "       num_round_for_cv,\n",
    "       nfold = 5,\n",
    "       show_stdv = False,\n",
    "       verbose_eval = False,\n",
    "       as_pandas = False)"
   ]
  },
  {
   "cell_type": "code",
   "execution_count": 45,
   "metadata": {},
   "outputs": [
    {
     "name": "stderr",
     "output_type": "stream",
     "text": [
      "C:\\Users\\dlorenz\\AppData\\Local\\Continuum\\anaconda3\\lib\\site-packages\\ipykernel_launcher.py:2: FutureWarning: \n",
      "The current behaviour of 'Series.argmin' is deprecated, use 'idxmin'\n",
      "instead.\n",
      "The behavior of 'argmin' will be corrected to return the positional\n",
      "minimum in the future. For now, use 'series.values.argmin' or\n",
      "'np.argmin(np.array(values))' to get the position of the minimum\n",
      "row.\n",
      "  \n"
     ]
    }
   ],
   "source": [
    "p = pd.DataFrame(p)\n",
    "use_num = p['test-error-mean'].argmin()"
   ]
  },
  {
   "cell_type": "code",
   "execution_count": 46,
   "metadata": {},
   "outputs": [],
   "source": [
    "num_round = use_num\n",
    "xgb_train = xgb.train(param, X_train_xgb, num_round)\n",
    "xgb_valid_prob = pd.Series(xgb_train.predict(X_valid_xgb))"
   ]
  },
  {
   "cell_type": "code",
   "execution_count": 47,
   "metadata": {},
   "outputs": [
    {
     "data": {
      "image/png": "[encoded data removed]",
      "text/plain": [
       "<Figure size 432x288 with 1 Axes>"
      ]
     },
     "metadata": {},
     "output_type": "display_data"
    }
   ],
   "source": [
    "xgb.plot_importance(xgb_train)\n",
    "plt.rcParams['figure.figsize'] = [20, 20]\n",
    "plt.show()"
   ]
  },
  {
   "cell_type": "code",
   "execution_count": 48,
   "metadata": {},
   "outputs": [
    {
     "data": {
      "text/plain": [
       "0.5179763780211779"
      ]
     },
     "execution_count": 48,
     "metadata": {},
     "output_type": "execute_result"
    }
   ],
   "source": [
    "LogLoss(xgb_valid_prob, y_valid)"
   ]
  },
  {
   "cell_type": "markdown",
   "metadata": {},
   "source": [
    "Random forest"
   ]
  },
  {
   "cell_type": "code",
   "execution_count": 49,
   "metadata": {},
   "outputs": [
    {
     "data": {
      "text/plain": [
       "0.5807195719900436"
      ]
     },
     "execution_count": 49,
     "metadata": {},
     "output_type": "execute_result"
    }
   ],
   "source": [
    "clf = RandomForestClassifier(n_estimators=200, max_depth=3, min_samples_leaf=3)\n",
    "clf.fit(X_train, y_train)\n",
    "rf_prob = pd.DataFrame(clf.predict_proba(X_valid))\n",
    "LogLoss(rf_prob[1], y_valid)"
   ]
  },
  {
   "cell_type": "code",
   "execution_count": 50,
   "metadata": {},
   "outputs": [],
   "source": [
    "avg = (rf_prob[1]+xgb_valid_prob+nn_pred)/3"
   ]
  },
  {
   "cell_type": "code",
   "execution_count": 51,
   "metadata": {},
   "outputs": [
    {
     "data": {
      "text/plain": [
       "0.5196065131373279"
      ]
     },
     "execution_count": 51,
     "metadata": {},
     "output_type": "execute_result"
    }
   ],
   "source": [
    "LogLoss(avg, y_valid)"
   ]
  }
 ],
 "metadata": {
  "kernelspec": {
   "display_name": "Python 3",
   "language": "python",
   "name": "python3"
  },
  "language_info": {
   "codemirror_mode": {
    "name": "ipython",
    "version": 3
   },
   "file_extension": ".py",
   "mimetype": "text/x-python",
   "name": "python",
   "nbconvert_exporter": "python",
   "pygments_lexer": "ipython3",
   "version": "3.6.5"
  }
 },
 "nbformat": 4,
 "nbformat_minor": 2
}
