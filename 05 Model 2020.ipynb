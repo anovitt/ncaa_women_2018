{
 "cells": [
  {
   "cell_type": "markdown",
   "metadata": {},
   "source": [
    "# Load packages"
   ]
  },
  {
   "cell_type": "markdown",
   "metadata": {},
   "source": [
    "# Load data"
   ]
  },
  {
   "cell_type": "code",
   "execution_count": 1,
   "metadata": {},
   "outputs": [],
   "source": [
    "import numpy as np\n",
    "import pandas as pd\n",
    "\n",
    "import matplotlib.pyplot as plt\n",
    "import seaborn as sns\n",
    "%matplotlib inline\n",
    "\n",
    "from collections import Counter\n",
    "\n",
    "from sklearn.neural_network import MLPClassifier\n",
    "from sklearn.preprocessing import StandardScaler\n",
    "from sklearn.ensemble import RandomForestClassifier\n",
    "from sklearn.linear_model import LogisticRegression\n",
    "from sklearn.model_selection import GridSearchCV, cross_val_score, StratifiedKFold, learning_curve, train_test_split\n",
    "from sklearn.metrics import brier_score_loss\n",
    "\n",
    "import xgboost as xgb\n",
    "from xgboost import XGBClassifier"
   ]
  },
  {
   "cell_type": "code",
   "execution_count": 2,
   "metadata": {},
   "outputs": [],
   "source": [
    "#all_games_df = pd.read_csv('Data/~Created data/all_games_df.csv')\n",
    "\n",
    "path = \"C:/Users/anovitt/AppData/Local/Programs/Python/Python36/Scripts/kaggle_mania_2020_men/google-cloud-ncaa-march-madness-2020-division-1-mens-tournament/\""
   ]
  },
  {
   "cell_type": "code",
   "execution_count": 3,
   "metadata": {},
   "outputs": [],
   "source": [
    "#data_matrix_df = pd.read_csv('data_matrix.csv')\n",
    "\n",
    "data_matrix_df = pd.read_csv(path + 'data_matrix.csv')\n",
    "sub_matrix_df = pd.read_csv(path + 'sub_matrix.csv')"
   ]
  },
  {
   "cell_type": "code",
   "execution_count": 4,
   "metadata": {},
   "outputs": [
    {
     "data": {
      "text/html": [
       "<div>\n",
       "<style scoped>\n",
       "    .dataframe tbody tr th:only-of-type {\n",
       "        vertical-align: middle;\n",
       "    }\n",
       "\n",
       "    .dataframe tbody tr th {\n",
       "        vertical-align: top;\n",
       "    }\n",
       "\n",
       "    .dataframe thead th {\n",
       "        text-align: right;\n",
       "    }\n",
       "</style>\n",
       "<table border=\"1\" class=\"dataframe\">\n",
       "  <thead>\n",
       "    <tr style=\"text-align: right;\">\n",
       "      <th></th>\n",
       "      <th>Season</th>\n",
       "      <th>DayNum</th>\n",
       "      <th>T1</th>\n",
       "      <th>T1_Points</th>\n",
       "      <th>T2</th>\n",
       "      <th>T2_Points</th>\n",
       "      <th>Location</th>\n",
       "      <th>ResultDiff</th>\n",
       "      <th>X1_WinRatio14d</th>\n",
       "      <th>X1_Points_mean</th>\n",
       "      <th>...</th>\n",
       "      <th>X2_luck</th>\n",
       "      <th>X2_sos_adj_em</th>\n",
       "      <th>X2_sos_adj_o</th>\n",
       "      <th>X2_sos_adj_d</th>\n",
       "      <th>X2_sos_adj_d_rank</th>\n",
       "      <th>X2_nc_sos_adj_em</th>\n",
       "      <th>T1_AP</th>\n",
       "      <th>T2_AP</th>\n",
       "      <th>T1_25Wins</th>\n",
       "      <th>T2_25Wins</th>\n",
       "    </tr>\n",
       "  </thead>\n",
       "  <tbody>\n",
       "    <tr>\n",
       "      <th>0</th>\n",
       "      <td>2003</td>\n",
       "      <td>10</td>\n",
       "      <td>1104</td>\n",
       "      <td>68</td>\n",
       "      <td>1328</td>\n",
       "      <td>62</td>\n",
       "      <td>N</td>\n",
       "      <td>6</td>\n",
       "      <td>0.333333</td>\n",
       "      <td>69.285714</td>\n",
       "      <td>...</td>\n",
       "      <td>0.034</td>\n",
       "      <td>9.01</td>\n",
       "      <td>106.7</td>\n",
       "      <td>97.7</td>\n",
       "      <td>25</td>\n",
       "      <td>-2.32</td>\n",
       "      <td>200.0</td>\n",
       "      <td>3.0</td>\n",
       "      <td>3</td>\n",
       "      <td>24</td>\n",
       "    </tr>\n",
       "    <tr>\n",
       "      <th>1</th>\n",
       "      <td>2003</td>\n",
       "      <td>10</td>\n",
       "      <td>1272</td>\n",
       "      <td>70</td>\n",
       "      <td>1393</td>\n",
       "      <td>63</td>\n",
       "      <td>N</td>\n",
       "      <td>7</td>\n",
       "      <td>0.750000</td>\n",
       "      <td>74.517241</td>\n",
       "      <td>...</td>\n",
       "      <td>0.083</td>\n",
       "      <td>10.32</td>\n",
       "      <td>106.6</td>\n",
       "      <td>96.3</td>\n",
       "      <td>4</td>\n",
       "      <td>-3.63</td>\n",
       "      <td>19.0</td>\n",
       "      <td>13.0</td>\n",
       "      <td>23</td>\n",
       "      <td>24</td>\n",
       "    </tr>\n",
       "    <tr>\n",
       "      <th>2</th>\n",
       "      <td>2003</td>\n",
       "      <td>11</td>\n",
       "      <td>1266</td>\n",
       "      <td>73</td>\n",
       "      <td>1437</td>\n",
       "      <td>61</td>\n",
       "      <td>N</td>\n",
       "      <td>12</td>\n",
       "      <td>0.500000</td>\n",
       "      <td>78.392857</td>\n",
       "      <td>...</td>\n",
       "      <td>0.000</td>\n",
       "      <td>0.00</td>\n",
       "      <td>0.0</td>\n",
       "      <td>0.0</td>\n",
       "      <td>0</td>\n",
       "      <td>0.00</td>\n",
       "      <td>9.0</td>\n",
       "      <td>200.0</td>\n",
       "      <td>23</td>\n",
       "      <td>1</td>\n",
       "    </tr>\n",
       "  </tbody>\n",
       "</table>\n",
       "<p>3 rows × 149 columns</p>\n",
       "</div>"
      ],
      "text/plain": [
       "   Season  DayNum    T1  T1_Points    T2  T2_Points Location  ResultDiff  \\\n",
       "0    2003      10  1104         68  1328         62        N           6   \n",
       "1    2003      10  1272         70  1393         63        N           7   \n",
       "2    2003      11  1266         73  1437         61        N          12   \n",
       "\n",
       "   X1_WinRatio14d  X1_Points_mean  ...  X2_luck  X2_sos_adj_em  X2_sos_adj_o  \\\n",
       "0        0.333333       69.285714  ...    0.034           9.01         106.7   \n",
       "1        0.750000       74.517241  ...    0.083          10.32         106.6   \n",
       "2        0.500000       78.392857  ...    0.000           0.00           0.0   \n",
       "\n",
       "   X2_sos_adj_d  X2_sos_adj_d_rank  X2_nc_sos_adj_em  T1_AP  T2_AP  T1_25Wins  \\\n",
       "0          97.7                 25             -2.32  200.0    3.0          3   \n",
       "1          96.3                  4             -3.63   19.0   13.0         23   \n",
       "2           0.0                  0              0.00    9.0  200.0         23   \n",
       "\n",
       "   T2_25Wins  \n",
       "0         24  \n",
       "1         24  \n",
       "2          1  \n",
       "\n",
       "[3 rows x 149 columns]"
      ]
     },
     "execution_count": 4,
     "metadata": {},
     "output_type": "execute_result"
    }
   ],
   "source": [
    "data_matrix_df.head(3)"
   ]
  },
  {
   "cell_type": "code",
   "execution_count": 5,
   "metadata": {},
   "outputs": [],
   "source": [
    "XX_train = data_matrix_df.drop(['Season','DayNum','T1','T1_Points','T2','T2_Points','Location','ResultDiff','T1_AP','T2_AP'],axis =1)"
   ]
  },
  {
   "cell_type": "code",
   "execution_count": 6,
   "metadata": {},
   "outputs": [
    {
     "data": {
      "text/html": [
       "<div>\n",
       "<style scoped>\n",
       "    .dataframe tbody tr th:only-of-type {\n",
       "        vertical-align: middle;\n",
       "    }\n",
       "\n",
       "    .dataframe tbody tr th {\n",
       "        vertical-align: top;\n",
       "    }\n",
       "\n",
       "    .dataframe thead th {\n",
       "        text-align: right;\n",
       "    }\n",
       "</style>\n",
       "<table border=\"1\" class=\"dataframe\">\n",
       "  <thead>\n",
       "    <tr style=\"text-align: right;\">\n",
       "      <th></th>\n",
       "      <th>X1_WinRatio14d</th>\n",
       "      <th>X1_Points_mean</th>\n",
       "      <th>X1_Points_sd</th>\n",
       "      <th>X1_Points_median</th>\n",
       "      <th>X1_fgm_mean</th>\n",
       "      <th>X1_fga_mean</th>\n",
       "      <th>X1_fgp</th>\n",
       "      <th>X1_fgm3_mean</th>\n",
       "      <th>X1_fga3_mean</th>\n",
       "      <th>X1_fg3p</th>\n",
       "      <th>...</th>\n",
       "      <th>X2_adj_d</th>\n",
       "      <th>X2_adj_tempo</th>\n",
       "      <th>X2_luck</th>\n",
       "      <th>X2_sos_adj_em</th>\n",
       "      <th>X2_sos_adj_o</th>\n",
       "      <th>X2_sos_adj_d</th>\n",
       "      <th>X2_sos_adj_d_rank</th>\n",
       "      <th>X2_nc_sos_adj_em</th>\n",
       "      <th>T1_25Wins</th>\n",
       "      <th>T2_25Wins</th>\n",
       "    </tr>\n",
       "  </thead>\n",
       "  <tbody>\n",
       "    <tr>\n",
       "      <th>0</th>\n",
       "      <td>0.333333</td>\n",
       "      <td>69.285714</td>\n",
       "      <td>11.375273</td>\n",
       "      <td>69.0</td>\n",
       "      <td>24.035714</td>\n",
       "      <td>57.178571</td>\n",
       "      <td>0.420362</td>\n",
       "      <td>6.357143</td>\n",
       "      <td>19.857143</td>\n",
       "      <td>0.320144</td>\n",
       "      <td>...</td>\n",
       "      <td>89.1</td>\n",
       "      <td>62.7</td>\n",
       "      <td>0.034</td>\n",
       "      <td>9.01</td>\n",
       "      <td>106.7</td>\n",
       "      <td>97.7</td>\n",
       "      <td>25</td>\n",
       "      <td>-2.32</td>\n",
       "      <td>3</td>\n",
       "      <td>24</td>\n",
       "    </tr>\n",
       "    <tr>\n",
       "      <th>1</th>\n",
       "      <td>0.750000</td>\n",
       "      <td>74.517241</td>\n",
       "      <td>8.724435</td>\n",
       "      <td>73.0</td>\n",
       "      <td>26.275862</td>\n",
       "      <td>60.000000</td>\n",
       "      <td>0.437931</td>\n",
       "      <td>7.000000</td>\n",
       "      <td>20.068966</td>\n",
       "      <td>0.348797</td>\n",
       "      <td>...</td>\n",
       "      <td>91.1</td>\n",
       "      <td>71.0</td>\n",
       "      <td>0.083</td>\n",
       "      <td>10.32</td>\n",
       "      <td>106.6</td>\n",
       "      <td>96.3</td>\n",
       "      <td>4</td>\n",
       "      <td>-3.63</td>\n",
       "      <td>23</td>\n",
       "      <td>24</td>\n",
       "    </tr>\n",
       "    <tr>\n",
       "      <th>2</th>\n",
       "      <td>0.500000</td>\n",
       "      <td>78.392857</td>\n",
       "      <td>12.154375</td>\n",
       "      <td>75.5</td>\n",
       "      <td>27.214286</td>\n",
       "      <td>56.250000</td>\n",
       "      <td>0.483810</td>\n",
       "      <td>5.785714</td>\n",
       "      <td>15.250000</td>\n",
       "      <td>0.379391</td>\n",
       "      <td>...</td>\n",
       "      <td>0.0</td>\n",
       "      <td>0.0</td>\n",
       "      <td>0.000</td>\n",
       "      <td>0.00</td>\n",
       "      <td>0.0</td>\n",
       "      <td>0.0</td>\n",
       "      <td>0</td>\n",
       "      <td>0.00</td>\n",
       "      <td>23</td>\n",
       "      <td>1</td>\n",
       "    </tr>\n",
       "  </tbody>\n",
       "</table>\n",
       "<p>3 rows × 139 columns</p>\n",
       "</div>"
      ],
      "text/plain": [
       "   X1_WinRatio14d  X1_Points_mean  X1_Points_sd  X1_Points_median  \\\n",
       "0        0.333333       69.285714     11.375273              69.0   \n",
       "1        0.750000       74.517241      8.724435              73.0   \n",
       "2        0.500000       78.392857     12.154375              75.5   \n",
       "\n",
       "   X1_fgm_mean  X1_fga_mean    X1_fgp  X1_fgm3_mean  X1_fga3_mean   X1_fg3p  \\\n",
       "0    24.035714    57.178571  0.420362      6.357143     19.857143  0.320144   \n",
       "1    26.275862    60.000000  0.437931      7.000000     20.068966  0.348797   \n",
       "2    27.214286    56.250000  0.483810      5.785714     15.250000  0.379391   \n",
       "\n",
       "   ...  X2_adj_d  X2_adj_tempo  X2_luck  X2_sos_adj_em  X2_sos_adj_o  \\\n",
       "0  ...      89.1          62.7    0.034           9.01         106.7   \n",
       "1  ...      91.1          71.0    0.083          10.32         106.6   \n",
       "2  ...       0.0           0.0    0.000           0.00           0.0   \n",
       "\n",
       "   X2_sos_adj_d  X2_sos_adj_d_rank  X2_nc_sos_adj_em  T1_25Wins  T2_25Wins  \n",
       "0          97.7                 25             -2.32          3         24  \n",
       "1          96.3                  4             -3.63         23         24  \n",
       "2           0.0                  0              0.00         23          1  \n",
       "\n",
       "[3 rows x 139 columns]"
      ]
     },
     "execution_count": 6,
     "metadata": {},
     "output_type": "execute_result"
    }
   ],
   "source": [
    "XX_train.head(3)"
   ]
  },
  {
   "cell_type": "code",
   "execution_count": 7,
   "metadata": {},
   "outputs": [
    {
     "data": {
      "text/html": [
       "<div>\n",
       "<style scoped>\n",
       "    .dataframe tbody tr th:only-of-type {\n",
       "        vertical-align: middle;\n",
       "    }\n",
       "\n",
       "    .dataframe tbody tr th {\n",
       "        vertical-align: top;\n",
       "    }\n",
       "\n",
       "    .dataframe thead th {\n",
       "        text-align: right;\n",
       "    }\n",
       "</style>\n",
       "<table border=\"1\" class=\"dataframe\">\n",
       "  <thead>\n",
       "    <tr style=\"text-align: right;\">\n",
       "      <th></th>\n",
       "      <th>Unnamed: 0</th>\n",
       "      <th>ID</th>\n",
       "      <th>Pred</th>\n",
       "      <th>Season</th>\n",
       "      <th>T1</th>\n",
       "      <th>T2</th>\n",
       "      <th>X1_WinRatio14d</th>\n",
       "      <th>X1_Points_mean</th>\n",
       "      <th>X1_Points_sd</th>\n",
       "      <th>X1_Points_median</th>\n",
       "      <th>...</th>\n",
       "      <th>X2_luck</th>\n",
       "      <th>X2_sos_adj_em</th>\n",
       "      <th>X2_sos_adj_o</th>\n",
       "      <th>X2_sos_adj_d</th>\n",
       "      <th>X2_sos_adj_d_rank</th>\n",
       "      <th>X2_nc_sos_adj_em</th>\n",
       "      <th>T1_AP</th>\n",
       "      <th>T2_AP</th>\n",
       "      <th>T1_25Wins</th>\n",
       "      <th>T2_25Wins</th>\n",
       "    </tr>\n",
       "  </thead>\n",
       "  <tbody>\n",
       "    <tr>\n",
       "      <th>0</th>\n",
       "      <td>1</td>\n",
       "      <td>2015_1107_1112</td>\n",
       "      <td>0.5</td>\n",
       "      <td>2015</td>\n",
       "      <td>1107</td>\n",
       "      <td>1112</td>\n",
       "      <td>1.0</td>\n",
       "      <td>65.5</td>\n",
       "      <td>9.235276</td>\n",
       "      <td>64.0</td>\n",
       "      <td>...</td>\n",
       "      <td>-0.033</td>\n",
       "      <td>7.37</td>\n",
       "      <td>108.3</td>\n",
       "      <td>100.9</td>\n",
       "      <td>49</td>\n",
       "      <td>0.09</td>\n",
       "      <td>200</td>\n",
       "      <td>200</td>\n",
       "      <td>0</td>\n",
       "      <td>0</td>\n",
       "    </tr>\n",
       "    <tr>\n",
       "      <th>1</th>\n",
       "      <td>2</td>\n",
       "      <td>2015_1107_1116</td>\n",
       "      <td>0.5</td>\n",
       "      <td>2015</td>\n",
       "      <td>1107</td>\n",
       "      <td>1116</td>\n",
       "      <td>1.0</td>\n",
       "      <td>65.5</td>\n",
       "      <td>9.235276</td>\n",
       "      <td>64.0</td>\n",
       "      <td>...</td>\n",
       "      <td>0.045</td>\n",
       "      <td>6.09</td>\n",
       "      <td>107.2</td>\n",
       "      <td>101.1</td>\n",
       "      <td>59</td>\n",
       "      <td>-3.44</td>\n",
       "      <td>200</td>\n",
       "      <td>21</td>\n",
       "      <td>0</td>\n",
       "      <td>26</td>\n",
       "    </tr>\n",
       "    <tr>\n",
       "      <th>2</th>\n",
       "      <td>3</td>\n",
       "      <td>2015_1107_1124</td>\n",
       "      <td>0.5</td>\n",
       "      <td>2015</td>\n",
       "      <td>1107</td>\n",
       "      <td>1124</td>\n",
       "      <td>1.0</td>\n",
       "      <td>65.5</td>\n",
       "      <td>9.235276</td>\n",
       "      <td>64.0</td>\n",
       "      <td>...</td>\n",
       "      <td>-0.035</td>\n",
       "      <td>10.22</td>\n",
       "      <td>108.9</td>\n",
       "      <td>98.7</td>\n",
       "      <td>6</td>\n",
       "      <td>-0.51</td>\n",
       "      <td>200</td>\n",
       "      <td>200</td>\n",
       "      <td>0</td>\n",
       "      <td>0</td>\n",
       "    </tr>\n",
       "  </tbody>\n",
       "</table>\n",
       "<p>3 rows × 147 columns</p>\n",
       "</div>"
      ],
      "text/plain": [
       "   Unnamed: 0              ID  Pred  Season    T1    T2  X1_WinRatio14d  \\\n",
       "0           1  2015_1107_1112   0.5    2015  1107  1112             1.0   \n",
       "1           2  2015_1107_1116   0.5    2015  1107  1116             1.0   \n",
       "2           3  2015_1107_1124   0.5    2015  1107  1124             1.0   \n",
       "\n",
       "   X1_Points_mean  X1_Points_sd  X1_Points_median  ...  X2_luck  \\\n",
       "0            65.5      9.235276              64.0  ...   -0.033   \n",
       "1            65.5      9.235276              64.0  ...    0.045   \n",
       "2            65.5      9.235276              64.0  ...   -0.035   \n",
       "\n",
       "   X2_sos_adj_em  X2_sos_adj_o  X2_sos_adj_d  X2_sos_adj_d_rank  \\\n",
       "0           7.37         108.3         100.9                 49   \n",
       "1           6.09         107.2         101.1                 59   \n",
       "2          10.22         108.9          98.7                  6   \n",
       "\n",
       "   X2_nc_sos_adj_em  T1_AP  T2_AP  T1_25Wins  T2_25Wins  \n",
       "0              0.09    200    200          0          0  \n",
       "1             -3.44    200     21          0         26  \n",
       "2             -0.51    200    200          0          0  \n",
       "\n",
       "[3 rows x 147 columns]"
      ]
     },
     "execution_count": 7,
     "metadata": {},
     "output_type": "execute_result"
    }
   ],
   "source": [
    "sub_matrix_df.head(3)"
   ]
  },
  {
   "cell_type": "code",
   "execution_count": 8,
   "metadata": {},
   "outputs": [],
   "source": [
    "X_test = sub_matrix_df.drop(['Season','ID','T1','T2','Pred','Unnamed: 0','T1_AP','T2_AP'],axis =1)"
   ]
  },
  {
   "cell_type": "code",
   "execution_count": 9,
   "metadata": {},
   "outputs": [
    {
     "data": {
      "text/html": [
       "<div>\n",
       "<style scoped>\n",
       "    .dataframe tbody tr th:only-of-type {\n",
       "        vertical-align: middle;\n",
       "    }\n",
       "\n",
       "    .dataframe tbody tr th {\n",
       "        vertical-align: top;\n",
       "    }\n",
       "\n",
       "    .dataframe thead th {\n",
       "        text-align: right;\n",
       "    }\n",
       "</style>\n",
       "<table border=\"1\" class=\"dataframe\">\n",
       "  <thead>\n",
       "    <tr style=\"text-align: right;\">\n",
       "      <th></th>\n",
       "      <th>X1_WinRatio14d</th>\n",
       "      <th>X1_Points_mean</th>\n",
       "      <th>X1_Points_sd</th>\n",
       "      <th>X1_Points_median</th>\n",
       "      <th>X1_fgm_mean</th>\n",
       "      <th>X1_fga_mean</th>\n",
       "      <th>X1_fgp</th>\n",
       "      <th>X1_fgm3_mean</th>\n",
       "      <th>X1_fga3_mean</th>\n",
       "      <th>X1_fg3p</th>\n",
       "      <th>...</th>\n",
       "      <th>X2_adj_d</th>\n",
       "      <th>X2_adj_tempo</th>\n",
       "      <th>X2_luck</th>\n",
       "      <th>X2_sos_adj_em</th>\n",
       "      <th>X2_sos_adj_o</th>\n",
       "      <th>X2_sos_adj_d</th>\n",
       "      <th>X2_sos_adj_d_rank</th>\n",
       "      <th>X2_nc_sos_adj_em</th>\n",
       "      <th>T1_25Wins</th>\n",
       "      <th>T2_25Wins</th>\n",
       "    </tr>\n",
       "  </thead>\n",
       "  <tbody>\n",
       "    <tr>\n",
       "      <th>0</th>\n",
       "      <td>1.0</td>\n",
       "      <td>65.5</td>\n",
       "      <td>9.235276</td>\n",
       "      <td>64.0</td>\n",
       "      <td>22.0625</td>\n",
       "      <td>50.15625</td>\n",
       "      <td>0.439875</td>\n",
       "      <td>6.15625</td>\n",
       "      <td>17.09375</td>\n",
       "      <td>0.360146</td>\n",
       "      <td>...</td>\n",
       "      <td>87.5</td>\n",
       "      <td>65.8</td>\n",
       "      <td>-0.033</td>\n",
       "      <td>7.37</td>\n",
       "      <td>108.3</td>\n",
       "      <td>100.9</td>\n",
       "      <td>49</td>\n",
       "      <td>0.09</td>\n",
       "      <td>0</td>\n",
       "      <td>0</td>\n",
       "    </tr>\n",
       "    <tr>\n",
       "      <th>1</th>\n",
       "      <td>1.0</td>\n",
       "      <td>65.5</td>\n",
       "      <td>9.235276</td>\n",
       "      <td>64.0</td>\n",
       "      <td>22.0625</td>\n",
       "      <td>50.15625</td>\n",
       "      <td>0.439875</td>\n",
       "      <td>6.15625</td>\n",
       "      <td>17.09375</td>\n",
       "      <td>0.360146</td>\n",
       "      <td>...</td>\n",
       "      <td>98.3</td>\n",
       "      <td>69.3</td>\n",
       "      <td>0.045</td>\n",
       "      <td>6.09</td>\n",
       "      <td>107.2</td>\n",
       "      <td>101.1</td>\n",
       "      <td>59</td>\n",
       "      <td>-3.44</td>\n",
       "      <td>0</td>\n",
       "      <td>26</td>\n",
       "    </tr>\n",
       "    <tr>\n",
       "      <th>2</th>\n",
       "      <td>1.0</td>\n",
       "      <td>65.5</td>\n",
       "      <td>9.235276</td>\n",
       "      <td>64.0</td>\n",
       "      <td>22.0625</td>\n",
       "      <td>50.15625</td>\n",
       "      <td>0.439875</td>\n",
       "      <td>6.15625</td>\n",
       "      <td>17.09375</td>\n",
       "      <td>0.360146</td>\n",
       "      <td>...</td>\n",
       "      <td>94.5</td>\n",
       "      <td>61.5</td>\n",
       "      <td>-0.035</td>\n",
       "      <td>10.22</td>\n",
       "      <td>108.9</td>\n",
       "      <td>98.7</td>\n",
       "      <td>6</td>\n",
       "      <td>-0.51</td>\n",
       "      <td>0</td>\n",
       "      <td>0</td>\n",
       "    </tr>\n",
       "  </tbody>\n",
       "</table>\n",
       "<p>3 rows × 139 columns</p>\n",
       "</div>"
      ],
      "text/plain": [
       "   X1_WinRatio14d  X1_Points_mean  X1_Points_sd  X1_Points_median  \\\n",
       "0             1.0            65.5      9.235276              64.0   \n",
       "1             1.0            65.5      9.235276              64.0   \n",
       "2             1.0            65.5      9.235276              64.0   \n",
       "\n",
       "   X1_fgm_mean  X1_fga_mean    X1_fgp  X1_fgm3_mean  X1_fga3_mean   X1_fg3p  \\\n",
       "0      22.0625     50.15625  0.439875       6.15625      17.09375  0.360146   \n",
       "1      22.0625     50.15625  0.439875       6.15625      17.09375  0.360146   \n",
       "2      22.0625     50.15625  0.439875       6.15625      17.09375  0.360146   \n",
       "\n",
       "   ...  X2_adj_d  X2_adj_tempo  X2_luck  X2_sos_adj_em  X2_sos_adj_o  \\\n",
       "0  ...      87.5          65.8   -0.033           7.37         108.3   \n",
       "1  ...      98.3          69.3    0.045           6.09         107.2   \n",
       "2  ...      94.5          61.5   -0.035          10.22         108.9   \n",
       "\n",
       "   X2_sos_adj_d  X2_sos_adj_d_rank  X2_nc_sos_adj_em  T1_25Wins  T2_25Wins  \n",
       "0         100.9                 49              0.09          0          0  \n",
       "1         101.1                 59             -3.44          0         26  \n",
       "2          98.7                  6             -0.51          0          0  \n",
       "\n",
       "[3 rows x 139 columns]"
      ]
     },
     "execution_count": 9,
     "metadata": {},
     "output_type": "execute_result"
    }
   ],
   "source": [
    "X_test.head(3)"
   ]
  },
  {
   "cell_type": "code",
   "execution_count": 10,
   "metadata": {},
   "outputs": [],
   "source": [
    "\n",
    "data_matrix_df['Win'] = 0\n",
    "\n",
    "data_matrix_df.loc[data_matrix_df['T1_Points'] > data_matrix_df['T2_Points']] = 1\n"
   ]
  },
  {
   "cell_type": "code",
   "execution_count": 11,
   "metadata": {},
   "outputs": [],
   "source": [
    "yy_train = data_matrix_df['Win']"
   ]
  },
  {
   "cell_type": "code",
   "execution_count": 12,
   "metadata": {},
   "outputs": [],
   "source": [
    "X_train, X_val, y_train, y_val = train_test_split(XX_train, yy_train, test_size=0.25, random_state=42)\n",
    "\n",
    "\n",
    "#X_train, X_test, y_train, y_test = train_test_split(X, y, test_size=0.33, random_state=42)"
   ]
  },
  {
   "cell_type": "markdown",
   "metadata": {},
   "source": [
    "Note: test is 2019 predictions but our \"test\" holdout set is referred to as \"valid\" "
   ]
  },
  {
   "cell_type": "code",
   "execution_count": 13,
   "metadata": {},
   "outputs": [],
   "source": [
    "X_test = X_test.astype(\"float64\")\n",
    "XX_train = XX_train.astype(\"float64\") # Full data set, use for round 2\n",
    "X_train = X_train.astype(\"float64\")\n",
    "X_val = X_val.astype(\"float64\")\n",
    "#y_train = y_train.astype(\"float64\")\n",
    "#y_val = y_val.astype(\"float64\")"
   ]
  },
  {
   "cell_type": "markdown",
   "metadata": {},
   "source": [
    "# Scoring rules and two benchmarks"
   ]
  },
  {
   "cell_type": "code",
   "execution_count": 14,
   "metadata": {},
   "outputs": [],
   "source": [
    "def LogLoss(predictions, realizations):\n",
    "    predictions_use = predictions.clip(0)\n",
    "    realizations_use = realizations.clip(0)\n",
    "    LogLoss = -np.mean( (realizations_use * np.log(predictions_use)) + \n",
    "                        (1 - realizations_use) * np.log(1 - predictions_use) )\n",
    "    return LogLoss"
   ]
  },
  {
   "cell_type": "markdown",
   "metadata": {},
   "source": [
    "# Fit a neural network (with and without line)"
   ]
  },
  {
   "cell_type": "markdown",
   "metadata": {},
   "source": [
    "Normalize data (using z-scores) before neural network"
   ]
  },
  {
   "cell_type": "code",
   "execution_count": 15,
   "metadata": {},
   "outputs": [],
   "source": [
    "scaler = StandardScaler()\n",
    "scaler.fit(X_train)  # Fit only to the training data\n",
    "scaler.fit(X_val)\n",
    "scaler.fit(X_test)\n",
    "scaler.fit(XX_train)\n",
    "scaled_X_train = pd.DataFrame(scaler.transform(X_train), index=X_train.index, columns=X_train.columns)\n",
    "scaled_XX_train = pd.DataFrame(scaler.transform(XX_train), index=XX_train.index, columns=X_train.columns) # full data set\n",
    "scaled_X_valid = pd.DataFrame(scaler.transform(X_val), index=X_val.index, columns=X_val.columns)\n",
    "scaled_X_test = pd.DataFrame(scaler.transform(X_test), index=X_test.index, columns=X_test.columns)"
   ]
  },
  {
   "cell_type": "markdown",
   "metadata": {},
   "source": [
    "With line (note: we won't have line in the rounds after the first, but we could use this for the first round only like Lopez and Matthews did) "
   ]
  },
  {
   "cell_type": "code",
   "execution_count": 16,
   "metadata": {},
   "outputs": [],
   "source": [
    "#Note: I tried logistic activation and different combinations of hidden layers/nodes\n",
    "#Hyperparameters below minimized the log loss in the holdout set\n",
    "#I also submited a prediction with 10 nodes in the first layer, but this is the submission that placed 4th (w/ 8 in 1st)\n",
    "#nn = MLPClassifier(activation='relu', hidden_layer_sizes=(8,5,3),random_state=201, max_iter=1000)\n",
    "nn = MLPClassifier(activation='relu', hidden_layer_sizes=(100,50,25,5,3),random_state=201, max_iter=1000)\n",
    "nn.fit(scaled_X_train,y_train)\n",
    "nn_pred = pd.DataFrame(nn.predict_proba(scaled_X_valid))[1]"
   ]
  },
  {
   "cell_type": "code",
   "execution_count": 17,
   "metadata": {},
   "outputs": [
    {
     "data": {
      "text/plain": [
       "3.429598237993374"
      ]
     },
     "execution_count": 17,
     "metadata": {},
     "output_type": "execute_result"
    }
   ],
   "source": [
    "LogLoss(nn_pred, y_val)"
   ]
  },
  {
   "cell_type": "code",
   "execution_count": 26,
   "metadata": {},
   "outputs": [],
   "source": [
    "# Full data set, use for round 2\n",
    "nn = MLPClassifier(activation='relu', hidden_layer_sizes=(8,8,8,5,3),random_state=201, max_iter=1000)\n",
    "nn.fit(scaled_XX_train,yy_train)\n",
    "nn_pred = pd.DataFrame(nn.predict_proba(scaled_X_test))[1]"
   ]
  },
  {
   "cell_type": "code",
   "execution_count": null,
   "metadata": {},
   "outputs": [],
   "source": [
    "nn.fit(scaled_XX_train,yy_train)\n",
    "nn_pred = pd.DataFrame(nn.predict_proba(scaled_X_test))[1]"
   ]
  },
  {
   "cell_type": "code",
   "execution_count": 23,
   "metadata": {},
   "outputs": [
    {
     "data": {
      "text/plain": [
       "0.8978296182159777"
      ]
     },
     "execution_count": 23,
     "metadata": {},
     "output_type": "execute_result"
    }
   ],
   "source": [
    "LogLoss(nn_pred, y_val)"
   ]
  },
  {
   "cell_type": "code",
   "execution_count": 27,
   "metadata": {},
   "outputs": [],
   "source": [
    "#try second holdout (does worse, but still better than baseline of 54)\n",
    "#nn = MLPClassifier(activation='relu', hidden_layer_sizes=(8,8,8,5,3),random_state=201, max_iter=1000)\n",
    "#nn.fit(scaled_XX_train,yy_train)\n",
    "nn_pred_test = pd.DataFrame(nn.predict_proba(scaled_X_test))[1]"
   ]
  },
  {
   "cell_type": "code",
   "execution_count": null,
   "metadata": {},
   "outputs": [],
   "source": [
    "# write out prob csv file\n",
    "\n",
    "nn_pred.to_csv(path + 'submitProb.csv', index=False)"
   ]
  },
  {
   "cell_type": "markdown",
   "metadata": {},
   "source": [
    "***1D CNN Netwok Try***"
   ]
  },
  {
   "cell_type": "code",
   "execution_count": 5,
   "metadata": {},
   "outputs": [],
   "source": [
    "# CNN 1D Network\n",
    "\n",
    "#import keras\n",
    "\n",
    "from tensorflow.keras import backend\n",
    "#import keras\n",
    "\n",
    "#from matplotlib import pyplot\n",
    "#from keras.models import Sequential\n",
    "#from keras.layers import Dense\n",
    "#from keras.layers import Flatten\n",
    "#from keras.layers import Dropout\n",
    "#from keras.layers.convolutional import Conv1D\n",
    "#from keras.layers.convolutional import MaxPooling1D\n",
    "#from keras.utils import to_categorical"
   ]
  },
  {
   "cell_type": "code",
   "execution_count": 49,
   "metadata": {},
   "outputs": [
    {
     "data": {
      "text/plain": [
       "(90777, 119)"
      ]
     },
     "execution_count": 49,
     "metadata": {},
     "output_type": "execute_result"
    }
   ],
   "source": [
    "scaled_X_train.shape"
   ]
  },
  {
   "cell_type": "code",
   "execution_count": 57,
   "metadata": {},
   "outputs": [],
   "source": [
    "def evaluate_model(X_train, y_train, X_val, y_val):\n",
    "    \n",
    "    verbose, epochs, batch_size = 0, 10, 32\n",
    "    n_timesteps = 1 #X_train.shape[2]\n",
    "    n_features = X_train.shape[2]\n",
    "    n_outputs = 1 #y_train.shape[1]\n",
    "    \n",
    "    #n_timesteps, n_features, n_outputs = X_train.shape[1], X_train.shape[2], Y_train.shape[1]\n",
    "    model = Sequential()\n",
    "    model.add(Conv1D(filters=64, kernel_size=3, activation='relu', input_shape=(n_timesteps,n_features)))\n",
    "    model.add(Conv1D(filters=64, kernel_size=3, activation='relu'))\n",
    "    model.add(Dropout(0.5))\n",
    "    model.add(MaxPooling1D(pool_size=2))\n",
    "    model.add(Flatten())\n",
    "    model.add(Dense(100, activation='relu'))\n",
    "    model.add(Dense(n_outputs, activation='softmax'))\n",
    "    model.compile(loss='categorical_crossentropy', optimizer='adam', metrics=['accuracy'])\n",
    "    # fit network\n",
    "    model.fit(X_train, y_train, epochs=epochs, batch_size=batch_size, verbose=verbose)\n",
    "    # evaluate model\n",
    "    _, accuracy = model.evaluate(X_val, y_val, batch_size=batch_size, verbose=0)\n",
    "    return accuracy"
   ]
  },
  {
   "cell_type": "code",
   "execution_count": 58,
   "metadata": {},
   "outputs": [],
   "source": [
    "# run an experiment\n",
    "def run_experiment(repeats=10):\n",
    "    # load data\n",
    "\t\n",
    "\t# repeat experiment\n",
    "\tscores = list()\n",
    "\tfor r in range(repeats):\n",
    "\t\tscore = evaluate_model(scaled_X_train,y_train, scaled_X_valid, y_val)\n",
    "\t\tscore = score * 100.0\n",
    "\t\tprint('>#%d: %.3f' % (r+1, score))\n",
    "\t\tscores.append(score)\n",
    "\t# summarize results\n",
    "\tsummarize_results(scores)"
   ]
  },
  {
   "cell_type": "code",
   "execution_count": 59,
   "metadata": {},
   "outputs": [
    {
     "ename": "IndexError",
     "evalue": "tuple index out of range",
     "output_type": "error",
     "traceback": [
      "\u001b[1;31m---------------------------------------------------------------------------\u001b[0m",
      "\u001b[1;31mIndexError\u001b[0m                                Traceback (most recent call last)",
      "\u001b[1;32m<ipython-input-59-400188e9bc26>\u001b[0m in \u001b[0;36m<module>\u001b[1;34m\u001b[0m\n\u001b[1;32m----> 1\u001b[1;33m \u001b[0mrun_experiment\u001b[0m\u001b[1;33m(\u001b[0m\u001b[1;33m)\u001b[0m\u001b[1;33m\u001b[0m\u001b[0m\n\u001b[0m",
      "\u001b[1;32m<ipython-input-58-953cc16a8c89>\u001b[0m in \u001b[0;36mrun_experiment\u001b[1;34m(repeats)\u001b[0m\n\u001b[0;32m      6\u001b[0m         \u001b[0mscores\u001b[0m \u001b[1;33m=\u001b[0m \u001b[0mlist\u001b[0m\u001b[1;33m(\u001b[0m\u001b[1;33m)\u001b[0m\u001b[1;33m\u001b[0m\u001b[0m\n\u001b[0;32m      7\u001b[0m         \u001b[1;32mfor\u001b[0m \u001b[0mr\u001b[0m \u001b[1;32min\u001b[0m \u001b[0mrange\u001b[0m\u001b[1;33m(\u001b[0m\u001b[0mrepeats\u001b[0m\u001b[1;33m)\u001b[0m\u001b[1;33m:\u001b[0m\u001b[1;33m\u001b[0m\u001b[0m\n\u001b[1;32m----> 8\u001b[1;33m                 \u001b[0mscore\u001b[0m \u001b[1;33m=\u001b[0m \u001b[0mevaluate_model\u001b[0m\u001b[1;33m(\u001b[0m\u001b[0mscaled_X_train\u001b[0m\u001b[1;33m,\u001b[0m\u001b[0my_train\u001b[0m\u001b[1;33m,\u001b[0m \u001b[0mscaled_X_valid\u001b[0m\u001b[1;33m,\u001b[0m \u001b[0my_val\u001b[0m\u001b[1;33m)\u001b[0m\u001b[1;33m\u001b[0m\u001b[0m\n\u001b[0m\u001b[0;32m      9\u001b[0m                 \u001b[0mscore\u001b[0m \u001b[1;33m=\u001b[0m \u001b[0mscore\u001b[0m \u001b[1;33m*\u001b[0m \u001b[1;36m100.0\u001b[0m\u001b[1;33m\u001b[0m\u001b[0m\n\u001b[0;32m     10\u001b[0m                 \u001b[0mprint\u001b[0m\u001b[1;33m(\u001b[0m\u001b[1;34m'>#%d: %.3f'\u001b[0m \u001b[1;33m%\u001b[0m \u001b[1;33m(\u001b[0m\u001b[0mr\u001b[0m\u001b[1;33m+\u001b[0m\u001b[1;36m1\u001b[0m\u001b[1;33m,\u001b[0m \u001b[0mscore\u001b[0m\u001b[1;33m)\u001b[0m\u001b[1;33m)\u001b[0m\u001b[1;33m\u001b[0m\u001b[0m\n",
      "\u001b[1;32m<ipython-input-57-7cb42f688c88>\u001b[0m in \u001b[0;36mevaluate_model\u001b[1;34m(X_train, y_train, X_val, y_val)\u001b[0m\n\u001b[0;32m      3\u001b[0m     \u001b[0mverbose\u001b[0m\u001b[1;33m,\u001b[0m \u001b[0mepochs\u001b[0m\u001b[1;33m,\u001b[0m \u001b[0mbatch_size\u001b[0m \u001b[1;33m=\u001b[0m \u001b[1;36m0\u001b[0m\u001b[1;33m,\u001b[0m \u001b[1;36m10\u001b[0m\u001b[1;33m,\u001b[0m \u001b[1;36m32\u001b[0m\u001b[1;33m\u001b[0m\u001b[0m\n\u001b[0;32m      4\u001b[0m     \u001b[0mn_timesteps\u001b[0m \u001b[1;33m=\u001b[0m \u001b[1;36m1\u001b[0m \u001b[1;31m#X_train.shape[2]\u001b[0m\u001b[1;33m\u001b[0m\u001b[0m\n\u001b[1;32m----> 5\u001b[1;33m     \u001b[0mn_features\u001b[0m \u001b[1;33m=\u001b[0m \u001b[0mX_train\u001b[0m\u001b[1;33m.\u001b[0m\u001b[0mshape\u001b[0m\u001b[1;33m[\u001b[0m\u001b[1;36m2\u001b[0m\u001b[1;33m]\u001b[0m\u001b[1;33m\u001b[0m\u001b[0m\n\u001b[0m\u001b[0;32m      6\u001b[0m     \u001b[0mn_outputs\u001b[0m \u001b[1;33m=\u001b[0m \u001b[1;36m1\u001b[0m \u001b[1;31m#y_train.shape[1]\u001b[0m\u001b[1;33m\u001b[0m\u001b[0m\n\u001b[0;32m      7\u001b[0m \u001b[1;33m\u001b[0m\u001b[0m\n",
      "\u001b[1;31mIndexError\u001b[0m: tuple index out of range"
     ]
    }
   ],
   "source": [
    "run_experiment()"
   ]
  },
  {
   "cell_type": "code",
   "execution_count": 34,
   "metadata": {},
   "outputs": [
    {
     "name": "stdout",
     "output_type": "stream",
     "text": [
      "hello\n"
     ]
    }
   ],
   "source": [
    "print('hello')"
   ]
  },
  {
   "cell_type": "markdown",
   "metadata": {},
   "source": [
    "Without line"
   ]
  },
  {
   "cell_type": "markdown",
   "metadata": {},
   "source": [
    "# Create test predictions"
   ]
  },
  {
   "cell_type": "code",
   "execution_count": 35,
   "metadata": {},
   "outputs": [],
   "source": [
    "#Note: I'm predicting home (lower seed) win probability. Need to convert to be consistent with output file (lower team ID)\n",
    "second_rd_submission = pd.merge(test_combos_df, second_rd_submission_all, left_index=True, right_index=True)"
   ]
  },
  {
   "cell_type": "code",
   "execution_count": 36,
   "metadata": {},
   "outputs": [],
   "source": [
    "second_rd_submission.loc[second_rd_submission['HTeamID']<second_rd_submission['RTeamID'], 'pred'] = second_rd_submission[1]\n",
    "second_rd_submission.loc[second_rd_submission['HTeamID']>second_rd_submission['RTeamID'], 'pred'] = second_rd_submission[0]"
   ]
  },
  {
   "cell_type": "code",
   "execution_count": 37,
   "metadata": {},
   "outputs": [],
   "source": [
    "second_rd_submission.to_csv('Data/~Created data/second_rd_submission_all.csv', index=False)"
   ]
  },
  {
   "cell_type": "code",
   "execution_count": 38,
   "metadata": {},
   "outputs": [],
   "source": [
    "second_rd_submission = second_rd_submission[['ID','pred']]"
   ]
  },
  {
   "cell_type": "code",
   "execution_count": 39,
   "metadata": {},
   "outputs": [
    {
     "data": {
      "text/html": [
       "<div>\n",
       "<style scoped>\n",
       "    .dataframe tbody tr th:only-of-type {\n",
       "        vertical-align: middle;\n",
       "    }\n",
       "\n",
       "    .dataframe tbody tr th {\n",
       "        vertical-align: top;\n",
       "    }\n",
       "\n",
       "    .dataframe thead th {\n",
       "        text-align: right;\n",
       "    }\n",
       "</style>\n",
       "<table border=\"1\" class=\"dataframe\">\n",
       "  <thead>\n",
       "    <tr style=\"text-align: right;\">\n",
       "      <th></th>\n",
       "      <th>ID</th>\n",
       "      <th>pred</th>\n",
       "    </tr>\n",
       "  </thead>\n",
       "  <tbody>\n",
       "    <tr>\n",
       "      <th>0</th>\n",
       "      <td>2019_1101_1113</td>\n",
       "      <td>0.190039</td>\n",
       "    </tr>\n",
       "    <tr>\n",
       "      <th>1</th>\n",
       "      <td>2019_1101_1120</td>\n",
       "      <td>0.078436</td>\n",
       "    </tr>\n",
       "    <tr>\n",
       "      <th>2</th>\n",
       "      <td>2019_1101_1124</td>\n",
       "      <td>0.122828</td>\n",
       "    </tr>\n",
       "    <tr>\n",
       "      <th>3</th>\n",
       "      <td>2019_1101_1125</td>\n",
       "      <td>0.153890</td>\n",
       "    </tr>\n",
       "    <tr>\n",
       "      <th>4</th>\n",
       "      <td>2019_1101_1133</td>\n",
       "      <td>0.675128</td>\n",
       "    </tr>\n",
       "  </tbody>\n",
       "</table>\n",
       "</div>"
      ],
      "text/plain": [
       "               ID      pred\n",
       "0  2019_1101_1113  0.190039\n",
       "1  2019_1101_1120  0.078436\n",
       "2  2019_1101_1124  0.122828\n",
       "3  2019_1101_1125  0.153890\n",
       "4  2019_1101_1133  0.675128"
      ]
     },
     "execution_count": 39,
     "metadata": {},
     "output_type": "execute_result"
    }
   ],
   "source": [
    "second_rd_submission.head()"
   ]
  },
  {
   "cell_type": "code",
   "execution_count": 40,
   "metadata": {},
   "outputs": [
    {
     "data": {
      "text/html": [
       "<div>\n",
       "<style scoped>\n",
       "    .dataframe tbody tr th:only-of-type {\n",
       "        vertical-align: middle;\n",
       "    }\n",
       "\n",
       "    .dataframe tbody tr th {\n",
       "        vertical-align: top;\n",
       "    }\n",
       "\n",
       "    .dataframe thead th {\n",
       "        text-align: right;\n",
       "    }\n",
       "</style>\n",
       "<table border=\"1\" class=\"dataframe\">\n",
       "  <thead>\n",
       "    <tr style=\"text-align: right;\">\n",
       "      <th></th>\n",
       "      <th>ID</th>\n",
       "      <th>pred</th>\n",
       "    </tr>\n",
       "  </thead>\n",
       "  <tbody>\n",
       "    <tr>\n",
       "      <th>2273</th>\n",
       "      <td>2019_1449_1459</td>\n",
       "      <td>0.264454</td>\n",
       "    </tr>\n",
       "    <tr>\n",
       "      <th>2274</th>\n",
       "      <td>2019_1449_1463</td>\n",
       "      <td>0.674249</td>\n",
       "    </tr>\n",
       "    <tr>\n",
       "      <th>2275</th>\n",
       "      <td>2019_1458_1459</td>\n",
       "      <td>0.332634</td>\n",
       "    </tr>\n",
       "    <tr>\n",
       "      <th>2276</th>\n",
       "      <td>2019_1458_1463</td>\n",
       "      <td>0.896041</td>\n",
       "    </tr>\n",
       "    <tr>\n",
       "      <th>2277</th>\n",
       "      <td>2019_1459_1463</td>\n",
       "      <td>0.881246</td>\n",
       "    </tr>\n",
       "  </tbody>\n",
       "</table>\n",
       "</div>"
      ],
      "text/plain": [
       "                  ID      pred\n",
       "2273  2019_1449_1459  0.264454\n",
       "2274  2019_1449_1463  0.674249\n",
       "2275  2019_1458_1459  0.332634\n",
       "2276  2019_1458_1463  0.896041\n",
       "2277  2019_1459_1463  0.881246"
      ]
     },
     "execution_count": 40,
     "metadata": {},
     "output_type": "execute_result"
    }
   ],
   "source": [
    "second_rd_submission.tail()"
   ]
  },
  {
   "cell_type": "code",
   "execution_count": 41,
   "metadata": {},
   "outputs": [],
   "source": [
    "#Export to submit to Kaggle\n",
    "second_rd_submission.to_csv('Data/~Created data/second_rd_submission.csv', index=False)"
   ]
  },
  {
   "cell_type": "markdown",
   "metadata": {},
   "source": [
    "# Other models"
   ]
  },
  {
   "cell_type": "markdown",
   "metadata": {},
   "source": [
    "No model performed as well as the neural network"
   ]
  },
  {
   "cell_type": "markdown",
   "metadata": {},
   "source": [
    "XGBoost"
   ]
  }
 ],
 "metadata": {
  "kernelspec": {
   "display_name": "Python 3",
   "language": "python",
   "name": "python3"
  },
  "language_info": {
   "codemirror_mode": {
    "name": "ipython",
    "version": 3
   },
   "file_extension": ".py",
   "mimetype": "text/x-python",
   "name": "python",
   "nbconvert_exporter": "python",
   "pygments_lexer": "ipython3",
   "version": "3.6.5"
  }
 },
 "nbformat": 4,
 "nbformat_minor": 2
}
