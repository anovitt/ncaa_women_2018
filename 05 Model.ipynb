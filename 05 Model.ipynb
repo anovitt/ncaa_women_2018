{
 "cells": [
  {
   "cell_type": "markdown",
   "metadata": {},
   "source": [
    "# Load packages"
   ]
  },
  {
   "cell_type": "code",
   "execution_count": 1,
   "metadata": {},
   "outputs": [],
   "source": [
    "import numpy as np\n",
    "import pandas as pd\n",
    "\n",
    "import matplotlib.pyplot as plt\n",
    "import seaborn as sns\n",
    "%matplotlib inline\n",
    "\n",
    "from collections import Counter\n",
    "\n",
    "from sklearn.neural_network import MLPClassifier\n",
    "from sklearn.preprocessing import StandardScaler\n",
    "from sklearn.ensemble import RandomForestClassifier\n",
    "from sklearn.linear_model import LogisticRegression\n",
    "from sklearn.model_selection import GridSearchCV, cross_val_score, StratifiedKFold, learning_curve, train_test_split\n",
    "from sklearn.metrics import brier_score_loss\n",
    "\n",
    "import xgboost as xgb\n",
    "from xgboost import XGBClassifier"
   ]
  },
  {
   "cell_type": "markdown",
   "metadata": {},
   "source": [
    "# Load data"
   ]
  },
  {
   "cell_type": "code",
   "execution_count": 2,
   "metadata": {},
   "outputs": [],
   "source": [
    "all_games_df = pd.read_csv('Data/~Created data/all_games_df.csv')"
   ]
  },
  {
   "cell_type": "code",
   "execution_count": 3,
   "metadata": {},
   "outputs": [],
   "source": [
    "test_combos_df = pd.read_csv('Data/~Created data/test_combos_df_19.csv')\n",
    "test_combos_df = test_combos_df.sort_values(by=['ID']).reset_index(drop=True)"
   ]
  },
  {
   "cell_type": "code",
   "execution_count": 4,
   "metadata": {},
   "outputs": [
    {
     "data": {
      "text/html": [
       "<div>\n",
       "<style scoped>\n",
       "    .dataframe tbody tr th:only-of-type {\n",
       "        vertical-align: middle;\n",
       "    }\n",
       "\n",
       "    .dataframe tbody tr th {\n",
       "        vertical-align: top;\n",
       "    }\n",
       "\n",
       "    .dataframe thead th {\n",
       "        text-align: right;\n",
       "    }\n",
       "</style>\n",
       "<table border=\"1\" class=\"dataframe\">\n",
       "  <thead>\n",
       "    <tr style=\"text-align: right;\">\n",
       "      <th></th>\n",
       "      <th>Season</th>\n",
       "      <th>ID</th>\n",
       "      <th>HTeamID</th>\n",
       "      <th>RTeamID</th>\n",
       "      <th>HSeed</th>\n",
       "      <th>RSeed</th>\n",
       "      <th>is_tourney</th>\n",
       "      <th>Hwins_top25</th>\n",
       "      <th>HPointMargin</th>\n",
       "      <th>HFG</th>\n",
       "      <th>...</th>\n",
       "      <th>road</th>\n",
       "      <th>Rconf</th>\n",
       "      <th>Radjem</th>\n",
       "      <th>Radjo</th>\n",
       "      <th>Radjd</th>\n",
       "      <th>Rluck</th>\n",
       "      <th>Htourny20plus</th>\n",
       "      <th>Rtourny20plus</th>\n",
       "      <th>HBig4Conf</th>\n",
       "      <th>RBig4Conf</th>\n",
       "    </tr>\n",
       "  </thead>\n",
       "  <tbody>\n",
       "    <tr>\n",
       "      <th>0</th>\n",
       "      <td>2019</td>\n",
       "      <td>2019_1101_1113</td>\n",
       "      <td>1113.0</td>\n",
       "      <td>1101.0</td>\n",
       "      <td>11.0</td>\n",
       "      <td>15.0</td>\n",
       "      <td>1</td>\n",
       "      <td>2</td>\n",
       "      <td>4.750000</td>\n",
       "      <td>0.450937</td>\n",
       "      <td>...</td>\n",
       "      <td>abilene christian</td>\n",
       "      <td>Slnd</td>\n",
       "      <td>2.09</td>\n",
       "      <td>103.6</td>\n",
       "      <td>101.5</td>\n",
       "      <td>0.087</td>\n",
       "      <td>0</td>\n",
       "      <td>0</td>\n",
       "      <td>0</td>\n",
       "      <td>0</td>\n",
       "    </tr>\n",
       "    <tr>\n",
       "      <th>1</th>\n",
       "      <td>2019</td>\n",
       "      <td>2019_1101_1120</td>\n",
       "      <td>1120.0</td>\n",
       "      <td>1101.0</td>\n",
       "      <td>5.0</td>\n",
       "      <td>15.0</td>\n",
       "      <td>1</td>\n",
       "      <td>3</td>\n",
       "      <td>10.294118</td>\n",
       "      <td>0.447579</td>\n",
       "      <td>...</td>\n",
       "      <td>abilene christian</td>\n",
       "      <td>Slnd</td>\n",
       "      <td>2.09</td>\n",
       "      <td>103.6</td>\n",
       "      <td>101.5</td>\n",
       "      <td>0.087</td>\n",
       "      <td>0</td>\n",
       "      <td>0</td>\n",
       "      <td>1</td>\n",
       "      <td>0</td>\n",
       "    </tr>\n",
       "    <tr>\n",
       "      <th>2</th>\n",
       "      <td>2019</td>\n",
       "      <td>2019_1101_1124</td>\n",
       "      <td>1124.0</td>\n",
       "      <td>1101.0</td>\n",
       "      <td>9.0</td>\n",
       "      <td>15.0</td>\n",
       "      <td>1</td>\n",
       "      <td>3</td>\n",
       "      <td>4.468750</td>\n",
       "      <td>0.442081</td>\n",
       "      <td>...</td>\n",
       "      <td>abilene christian</td>\n",
       "      <td>Slnd</td>\n",
       "      <td>2.09</td>\n",
       "      <td>103.6</td>\n",
       "      <td>101.5</td>\n",
       "      <td>0.087</td>\n",
       "      <td>0</td>\n",
       "      <td>0</td>\n",
       "      <td>1</td>\n",
       "      <td>0</td>\n",
       "    </tr>\n",
       "    <tr>\n",
       "      <th>3</th>\n",
       "      <td>2019</td>\n",
       "      <td>2019_1101_1125</td>\n",
       "      <td>1125.0</td>\n",
       "      <td>1101.0</td>\n",
       "      <td>11.0</td>\n",
       "      <td>15.0</td>\n",
       "      <td>1</td>\n",
       "      <td>0</td>\n",
       "      <td>12.200000</td>\n",
       "      <td>0.500653</td>\n",
       "      <td>...</td>\n",
       "      <td>abilene christian</td>\n",
       "      <td>Slnd</td>\n",
       "      <td>2.09</td>\n",
       "      <td>103.6</td>\n",
       "      <td>101.5</td>\n",
       "      <td>0.087</td>\n",
       "      <td>0</td>\n",
       "      <td>0</td>\n",
       "      <td>0</td>\n",
       "      <td>0</td>\n",
       "    </tr>\n",
       "    <tr>\n",
       "      <th>4</th>\n",
       "      <td>2019</td>\n",
       "      <td>2019_1101_1133</td>\n",
       "      <td>1101.0</td>\n",
       "      <td>1133.0</td>\n",
       "      <td>15.0</td>\n",
       "      <td>15.0</td>\n",
       "      <td>1</td>\n",
       "      <td>0</td>\n",
       "      <td>6.827586</td>\n",
       "      <td>0.458861</td>\n",
       "      <td>...</td>\n",
       "      <td>bradley</td>\n",
       "      <td>MVC</td>\n",
       "      <td>-0.36</td>\n",
       "      <td>100.9</td>\n",
       "      <td>101.2</td>\n",
       "      <td>0.040</td>\n",
       "      <td>0</td>\n",
       "      <td>0</td>\n",
       "      <td>0</td>\n",
       "      <td>0</td>\n",
       "    </tr>\n",
       "  </tbody>\n",
       "</table>\n",
       "<p>5 rows × 33 columns</p>\n",
       "</div>"
      ],
      "text/plain": [
       "   Season              ID  HTeamID  RTeamID  HSeed  RSeed  is_tourney  \\\n",
       "0    2019  2019_1101_1113   1113.0   1101.0   11.0   15.0           1   \n",
       "1    2019  2019_1101_1120   1120.0   1101.0    5.0   15.0           1   \n",
       "2    2019  2019_1101_1124   1124.0   1101.0    9.0   15.0           1   \n",
       "3    2019  2019_1101_1125   1125.0   1101.0   11.0   15.0           1   \n",
       "4    2019  2019_1101_1133   1101.0   1133.0   15.0   15.0           1   \n",
       "\n",
       "   Hwins_top25  HPointMargin       HFG  ...               road  Rconf  Radjem  \\\n",
       "0            2      4.750000  0.450937  ...  abilene christian   Slnd    2.09   \n",
       "1            3     10.294118  0.447579  ...  abilene christian   Slnd    2.09   \n",
       "2            3      4.468750  0.442081  ...  abilene christian   Slnd    2.09   \n",
       "3            0     12.200000  0.500653  ...  abilene christian   Slnd    2.09   \n",
       "4            0      6.827586  0.458861  ...            bradley    MVC   -0.36   \n",
       "\n",
       "   Radjo  Radjd  Rluck  Htourny20plus Rtourny20plus HBig4Conf  RBig4Conf  \n",
       "0  103.6  101.5  0.087              0             0         0          0  \n",
       "1  103.6  101.5  0.087              0             0         1          0  \n",
       "2  103.6  101.5  0.087              0             0         1          0  \n",
       "3  103.6  101.5  0.087              0             0         0          0  \n",
       "4  100.9  101.2  0.040              0             0         0          0  \n",
       "\n",
       "[5 rows x 33 columns]"
      ]
     },
     "execution_count": 4,
     "metadata": {},
     "output_type": "execute_result"
    }
   ],
   "source": [
    "test_combos_df.head()"
   ]
  },
  {
   "cell_type": "code",
   "execution_count": 5,
   "metadata": {},
   "outputs": [
    {
     "data": {
      "text/html": [
       "<div>\n",
       "<style scoped>\n",
       "    .dataframe tbody tr th:only-of-type {\n",
       "        vertical-align: middle;\n",
       "    }\n",
       "\n",
       "    .dataframe tbody tr th {\n",
       "        vertical-align: top;\n",
       "    }\n",
       "\n",
       "    .dataframe thead th {\n",
       "        text-align: right;\n",
       "    }\n",
       "</style>\n",
       "<table border=\"1\" class=\"dataframe\">\n",
       "  <thead>\n",
       "    <tr style=\"text-align: right;\">\n",
       "      <th></th>\n",
       "      <th>Season</th>\n",
       "      <th>ID</th>\n",
       "      <th>HTeamID</th>\n",
       "      <th>RTeamID</th>\n",
       "      <th>HSeed</th>\n",
       "      <th>RSeed</th>\n",
       "      <th>is_tourney</th>\n",
       "      <th>Hwins_top25</th>\n",
       "      <th>HPointMargin</th>\n",
       "      <th>HFG</th>\n",
       "      <th>...</th>\n",
       "      <th>road</th>\n",
       "      <th>Rconf</th>\n",
       "      <th>Radjem</th>\n",
       "      <th>Radjo</th>\n",
       "      <th>Radjd</th>\n",
       "      <th>Rluck</th>\n",
       "      <th>Htourny20plus</th>\n",
       "      <th>Rtourny20plus</th>\n",
       "      <th>HBig4Conf</th>\n",
       "      <th>RBig4Conf</th>\n",
       "    </tr>\n",
       "  </thead>\n",
       "  <tbody>\n",
       "    <tr>\n",
       "      <th>2273</th>\n",
       "      <td>2019</td>\n",
       "      <td>2019_1449_1459</td>\n",
       "      <td>1459.0</td>\n",
       "      <td>1449.0</td>\n",
       "      <td>7.0</td>\n",
       "      <td>9.0</td>\n",
       "      <td>1</td>\n",
       "      <td>0</td>\n",
       "      <td>13.666667</td>\n",
       "      <td>0.487256</td>\n",
       "      <td>...</td>\n",
       "      <td>washington</td>\n",
       "      <td>P12</td>\n",
       "      <td>13.37</td>\n",
       "      <td>107.0</td>\n",
       "      <td>93.6</td>\n",
       "      <td>0.078</td>\n",
       "      <td>0</td>\n",
       "      <td>0</td>\n",
       "      <td>0</td>\n",
       "      <td>0</td>\n",
       "    </tr>\n",
       "    <tr>\n",
       "      <th>2274</th>\n",
       "      <td>2019</td>\n",
       "      <td>2019_1449_1463</td>\n",
       "      <td>1449.0</td>\n",
       "      <td>1463.0</td>\n",
       "      <td>9.0</td>\n",
       "      <td>14.0</td>\n",
       "      <td>1</td>\n",
       "      <td>0</td>\n",
       "      <td>5.441176</td>\n",
       "      <td>0.455797</td>\n",
       "      <td>...</td>\n",
       "      <td>yale</td>\n",
       "      <td>Ivy</td>\n",
       "      <td>8.59</td>\n",
       "      <td>111.7</td>\n",
       "      <td>103.1</td>\n",
       "      <td>0.057</td>\n",
       "      <td>0</td>\n",
       "      <td>0</td>\n",
       "      <td>0</td>\n",
       "      <td>0</td>\n",
       "    </tr>\n",
       "    <tr>\n",
       "      <th>2275</th>\n",
       "      <td>2019</td>\n",
       "      <td>2019_1458_1459</td>\n",
       "      <td>1458.0</td>\n",
       "      <td>1459.0</td>\n",
       "      <td>5.0</td>\n",
       "      <td>7.0</td>\n",
       "      <td>1</td>\n",
       "      <td>2</td>\n",
       "      <td>7.636364</td>\n",
       "      <td>0.453714</td>\n",
       "      <td>...</td>\n",
       "      <td>wofford</td>\n",
       "      <td>SC</td>\n",
       "      <td>20.71</td>\n",
       "      <td>118.4</td>\n",
       "      <td>97.6</td>\n",
       "      <td>0.060</td>\n",
       "      <td>1</td>\n",
       "      <td>0</td>\n",
       "      <td>1</td>\n",
       "      <td>0</td>\n",
       "    </tr>\n",
       "    <tr>\n",
       "      <th>2276</th>\n",
       "      <td>2019</td>\n",
       "      <td>2019_1458_1463</td>\n",
       "      <td>1458.0</td>\n",
       "      <td>1463.0</td>\n",
       "      <td>5.0</td>\n",
       "      <td>14.0</td>\n",
       "      <td>1</td>\n",
       "      <td>2</td>\n",
       "      <td>7.636364</td>\n",
       "      <td>0.453714</td>\n",
       "      <td>...</td>\n",
       "      <td>yale</td>\n",
       "      <td>Ivy</td>\n",
       "      <td>8.59</td>\n",
       "      <td>111.7</td>\n",
       "      <td>103.1</td>\n",
       "      <td>0.057</td>\n",
       "      <td>1</td>\n",
       "      <td>0</td>\n",
       "      <td>1</td>\n",
       "      <td>0</td>\n",
       "    </tr>\n",
       "    <tr>\n",
       "      <th>2277</th>\n",
       "      <td>2019</td>\n",
       "      <td>2019_1459_1463</td>\n",
       "      <td>1459.0</td>\n",
       "      <td>1463.0</td>\n",
       "      <td>7.0</td>\n",
       "      <td>14.0</td>\n",
       "      <td>1</td>\n",
       "      <td>0</td>\n",
       "      <td>13.666667</td>\n",
       "      <td>0.487256</td>\n",
       "      <td>...</td>\n",
       "      <td>yale</td>\n",
       "      <td>Ivy</td>\n",
       "      <td>8.59</td>\n",
       "      <td>111.7</td>\n",
       "      <td>103.1</td>\n",
       "      <td>0.057</td>\n",
       "      <td>0</td>\n",
       "      <td>0</td>\n",
       "      <td>0</td>\n",
       "      <td>0</td>\n",
       "    </tr>\n",
       "  </tbody>\n",
       "</table>\n",
       "<p>5 rows × 33 columns</p>\n",
       "</div>"
      ],
      "text/plain": [
       "      Season              ID  HTeamID  RTeamID  HSeed  RSeed  is_tourney  \\\n",
       "2273    2019  2019_1449_1459   1459.0   1449.0    7.0    9.0           1   \n",
       "2274    2019  2019_1449_1463   1449.0   1463.0    9.0   14.0           1   \n",
       "2275    2019  2019_1458_1459   1458.0   1459.0    5.0    7.0           1   \n",
       "2276    2019  2019_1458_1463   1458.0   1463.0    5.0   14.0           1   \n",
       "2277    2019  2019_1459_1463   1459.0   1463.0    7.0   14.0           1   \n",
       "\n",
       "      Hwins_top25  HPointMargin       HFG  ...        road  Rconf  Radjem  \\\n",
       "2273            0     13.666667  0.487256  ...  washington    P12   13.37   \n",
       "2274            0      5.441176  0.455797  ...        yale    Ivy    8.59   \n",
       "2275            2      7.636364  0.453714  ...     wofford     SC   20.71   \n",
       "2276            2      7.636364  0.453714  ...        yale    Ivy    8.59   \n",
       "2277            0     13.666667  0.487256  ...        yale    Ivy    8.59   \n",
       "\n",
       "      Radjo  Radjd  Rluck  Htourny20plus Rtourny20plus HBig4Conf  RBig4Conf  \n",
       "2273  107.0   93.6  0.078              0             0         0          0  \n",
       "2274  111.7  103.1  0.057              0             0         0          0  \n",
       "2275  118.4   97.6  0.060              1             0         1          0  \n",
       "2276  111.7  103.1  0.057              1             0         1          0  \n",
       "2277  111.7  103.1  0.057              0             0         0          0  \n",
       "\n",
       "[5 rows x 33 columns]"
      ]
     },
     "execution_count": 5,
     "metadata": {},
     "output_type": "execute_result"
    }
   ],
   "source": [
    "test_combos_df.tail()"
   ]
  },
  {
   "cell_type": "code",
   "execution_count": 6,
   "metadata": {},
   "outputs": [],
   "source": [
    "ind_var_selected = [\n",
    "'is_tourney', \n",
    "'HRankPOM',\n",
    "'RRankPOM',\n",
    "'line',\n",
    "'Hwins_top25',\n",
    "'Rwins_top25',\n",
    "'HPointMargin',\n",
    "'RPointMargin',\n",
    "'HFG',\n",
    "'RFG',\n",
    "'HFG3',\n",
    "'RFG3',\n",
    "'Hadjem',\n",
    "'Hadjo',\n",
    "'Hadjd',\n",
    "'Hluck',\n",
    "'Radjem',\n",
    "'Radjo',\n",
    "'Radjd',\n",
    "'Rluck',\n",
    "'Htourny20plus',\n",
    "'Rtourny20plus',\n",
    "'HBig4Conf',\n",
    "'RBig4Conf', \n",
    "'HSeed',\n",
    "'RSeed'\n",
    "]"
   ]
  },
  {
   "cell_type": "markdown",
   "metadata": {},
   "source": [
    "Note: test is 2019 predictions but our \"test\" holdout set is referred to as \"valid\" "
   ]
  },
  {
   "cell_type": "code",
   "execution_count": 7,
   "metadata": {},
   "outputs": [],
   "source": [
    "#prediction set 2019\n",
    "test_ids = test_combos_df['ID'].reset_index(drop=True)\n",
    "X_test = test_combos_df[['is_tourney','HRankPOM','RRankPOM','Hwins_top25','Rwins_top25','HPointMargin','RPointMargin','HFG','RFG','HFG3','RFG3','Hadjem','Hadjo','Hadjd','Hluck','Radjem','Radjo','Radjd','Rluck','Htourny20plus','Rtourny20plus','HBig4Conf','RBig4Conf','HSeed','RSeed']].reset_index(drop=True)"
   ]
  },
  {
   "cell_type": "code",
   "execution_count": 8,
   "metadata": {},
   "outputs": [],
   "source": [
    "#Predict the last two years as a test set (2017, 2018):\n",
    "temp_df = all_games_df[all_games_df['Season']>2016]\n",
    "temp_df = temp_df[temp_df['is_tourney']==1]\n",
    "X_valid = temp_df[ind_var_selected].reset_index(drop=True)\n",
    "y_valid = temp_df['Hwin'].reset_index(drop=True)\n",
    "\n",
    "#Train on everything else:\n",
    "temp_df1 = all_games_df[all_games_df['Season']>2016]\n",
    "temp_df1 = temp_df1[temp_df1['is_tourney']==0]\n",
    "temp_df2 = all_games_df[all_games_df['Season']<2017]\n",
    "combined_temp_df = temp_df1.append(temp_df2)\n",
    "\n",
    "X_train = combined_temp_df[ind_var_selected].reset_index(drop=True)\n",
    "y_train = combined_temp_df['Hwin'].reset_index(drop=True)\n",
    "\n",
    "#For final predictions:\n",
    "X_train_orig = all_games_df[ind_var_selected].reset_index(drop=True)\n",
    "y_train_orig = all_games_df['Hwin'].reset_index(drop=True)"
   ]
  },
  {
   "cell_type": "code",
   "execution_count": 9,
   "metadata": {},
   "outputs": [],
   "source": [
    "#Create second holdout set to double-check not overfit and check model stability (season 2016)\n",
    "temp_df16 = all_games_df[all_games_df['Season']==2016]\n",
    "temp_df16 = temp_df16[temp_df16['is_tourney']==1]\n",
    "X_valid16 = temp_df16[ind_var_selected].reset_index(drop=True)\n",
    "y_valid16 = temp_df16['Hwin'].reset_index(drop=True)\n",
    "\n",
    "temp_df1_16 = all_games_df[all_games_df['Season']==2016]\n",
    "temp_df1_16 = temp_df1_16[temp_df1_16['is_tourney']==0]\n",
    "temp_df2_16 = all_games_df[all_games_df['Season']!=2016]\n",
    "combined_temp_df_16 = temp_df1_16.append(temp_df2_16)\n",
    "\n",
    "X_train16 = combined_temp_df_16[ind_var_selected].reset_index(drop=True)\n",
    "y_train16 = combined_temp_df_16['Hwin'].reset_index(drop=True)"
   ]
  },
  {
   "cell_type": "code",
   "execution_count": 10,
   "metadata": {},
   "outputs": [],
   "source": [
    "X_test = X_test.astype(\"float64\")\n",
    "\n",
    "X_train_orig = X_train_orig.astype(\"float64\")\n",
    "y_train_orig = y_train_orig.astype(\"float64\")\n",
    "\n",
    "X_train = X_train.astype(\"float64\")\n",
    "X_valid = X_valid.astype(\"float64\")\n",
    "y_train = y_train.astype(\"float64\")\n",
    "y_valid = y_valid.astype(\"float64\")\n",
    "\n",
    "X_train16 = X_train16.astype(\"float64\")\n",
    "X_valid16 = X_valid16.astype(\"float64\")\n",
    "y_train16 = y_train16.astype(\"float64\")\n",
    "y_valid16 = y_valid16.astype(\"float64\")"
   ]
  },
  {
   "cell_type": "markdown",
   "metadata": {},
   "source": [
    "# Scoring rules and two benchmarks"
   ]
  },
  {
   "cell_type": "code",
   "execution_count": 11,
   "metadata": {},
   "outputs": [],
   "source": [
    "def LogLoss(predictions, realizations):\n",
    "    predictions_use = predictions.clip(0)\n",
    "    realizations_use = realizations.clip(0)\n",
    "    LogLoss = -np.mean( (realizations_use * np.log(predictions_use)) + \n",
    "                        (1 - realizations_use) * np.log(1 - predictions_use) )\n",
    "    return LogLoss"
   ]
  },
  {
   "cell_type": "markdown",
   "metadata": {},
   "source": [
    "If the model doesn't beat assuming 50% it is poor"
   ]
  },
  {
   "cell_type": "code",
   "execution_count": 12,
   "metadata": {},
   "outputs": [],
   "source": [
    "bench_5050 = np.repeat(0.5, len(y_valid))"
   ]
  },
  {
   "cell_type": "code",
   "execution_count": 13,
   "metadata": {},
   "outputs": [
    {
     "data": {
      "text/plain": [
       "0.6931471805599462"
      ]
     },
     "execution_count": 13,
     "metadata": {},
     "output_type": "execute_result"
    }
   ],
   "source": [
    "LogLoss(bench_5050, y_valid)"
   ]
  },
  {
   "cell_type": "markdown",
   "metadata": {},
   "source": [
    "How does this compare to Lopez and Matthews (2014 winners)?"
   ]
  },
  {
   "cell_type": "code",
   "execution_count": 14,
   "metadata": {},
   "outputs": [],
   "source": [
    "Z1 = LogisticRegression(C = 1e9, random_state=23)\n",
    "Z1.fit(X_train[['line']], y_train)\n",
    "Z1_pred = pd.DataFrame(Z1.predict_proba(X_valid[['line']]))[1]"
   ]
  },
  {
   "cell_type": "code",
   "execution_count": 15,
   "metadata": {},
   "outputs": [
    {
     "data": {
      "text/plain": [
       "0.5502080536043085"
      ]
     },
     "execution_count": 15,
     "metadata": {},
     "output_type": "execute_result"
    }
   ],
   "source": [
    "LogLoss(Z1_pred, y_valid)"
   ]
  },
  {
   "cell_type": "code",
   "execution_count": 16,
   "metadata": {},
   "outputs": [],
   "source": [
    "Z2 = LogisticRegression(C = 1e9, random_state=23)\n",
    "Z2.fit(X_train[['Hadjo','Hadjd','Radjo','Radjd']], y_train)\n",
    "Z2_pred = pd.DataFrame(Z2.predict_proba(X_valid[['Hadjo','Hadjd','Radjo','Radjd']]))[1]"
   ]
  },
  {
   "cell_type": "code",
   "execution_count": 17,
   "metadata": {},
   "outputs": [
    {
     "data": {
      "text/plain": [
       "0.5354193605374048"
      ]
     },
     "execution_count": 17,
     "metadata": {},
     "output_type": "execute_result"
    }
   ],
   "source": [
    "LogLoss(Z2_pred, y_valid)"
   ]
  },
  {
   "cell_type": "code",
   "execution_count": 18,
   "metadata": {},
   "outputs": [],
   "source": [
    "Z1 = LogisticRegression(C = 1e9, random_state=23)\n",
    "Z1.fit(X_train16[['line']], y_train16)\n",
    "Z1_pred = pd.DataFrame(Z1.predict_proba(X_valid16[['line']]))[1]"
   ]
  },
  {
   "cell_type": "code",
   "execution_count": 19,
   "metadata": {},
   "outputs": [
    {
     "data": {
      "text/plain": [
       "0.5380322975323194"
      ]
     },
     "execution_count": 19,
     "metadata": {},
     "output_type": "execute_result"
    }
   ],
   "source": [
    "LogLoss(Z1_pred, y_valid16)"
   ]
  },
  {
   "cell_type": "code",
   "execution_count": 20,
   "metadata": {},
   "outputs": [],
   "source": [
    "Z2 = LogisticRegression(C = 1e9, random_state=23)\n",
    "Z2.fit(X_train16[['Hadjo','Hadjd','Radjo','Radjd']], y_train16)\n",
    "Z2_pred = pd.DataFrame(Z2.predict_proba(X_valid16[['Hadjo','Hadjd','Radjo','Radjd']]))[1]"
   ]
  },
  {
   "cell_type": "code",
   "execution_count": 21,
   "metadata": {},
   "outputs": [
    {
     "data": {
      "text/plain": [
       "0.5223623202955376"
      ]
     },
     "execution_count": 21,
     "metadata": {},
     "output_type": "execute_result"
    }
   ],
   "source": [
    "LogLoss(Z2_pred, y_valid16)"
   ]
  },
  {
   "cell_type": "markdown",
   "metadata": {},
   "source": [
    "# Fit a neural network (with and without line)"
   ]
  },
  {
   "cell_type": "markdown",
   "metadata": {},
   "source": [
    "Normalize data (using z-scores) before neural network"
   ]
  },
  {
   "cell_type": "code",
   "execution_count": 22,
   "metadata": {},
   "outputs": [],
   "source": [
    "scaler = StandardScaler()\n",
    "scaler.fit(X_train)  # Fit only to the training data\n",
    "scaled_X_train = pd.DataFrame(scaler.transform(X_train), index=X_train.index, columns=X_train.columns)\n",
    "scaled_X_valid = pd.DataFrame(scaler.transform(X_valid), index=X_valid.index, columns=X_valid.columns)"
   ]
  },
  {
   "cell_type": "code",
   "execution_count": 23,
   "metadata": {},
   "outputs": [],
   "source": [
    "scaler = StandardScaler()\n",
    "scaler.fit(X_train16)  # Fit only to the training data\n",
    "scaled_X_train16 = pd.DataFrame(scaler.transform(X_train16), index=X_train16.index, columns=X_train16.columns)\n",
    "scaled_X_valid16 = pd.DataFrame(scaler.transform(X_valid16), index=X_valid16.index, columns=X_valid16.columns)"
   ]
  },
  {
   "cell_type": "code",
   "execution_count": 24,
   "metadata": {},
   "outputs": [],
   "source": [
    "#drop line from training since we won't use in predictions, need these to be same number of columns.\n",
    "X_train_orig = X_train_orig.drop(['line'], axis=1)"
   ]
  },
  {
   "cell_type": "code",
   "execution_count": 25,
   "metadata": {},
   "outputs": [],
   "source": [
    "scaler = StandardScaler()\n",
    "scaler.fit(X_train_orig)  # Fit to all training data\n",
    "\n",
    "scaled_X_train_orig = pd.DataFrame(scaler.transform(X_train_orig), index=X_train_orig.index, columns=X_train_orig.columns)\n",
    "scaled_X_test = pd.DataFrame(scaler.transform(X_test), index=X_test.index, columns=X_test.columns)"
   ]
  },
  {
   "cell_type": "markdown",
   "metadata": {},
   "source": [
    "With line (note: we won't have line in the rounds after the first, but we could use this for the first round only like Lopez and Matthews did) "
   ]
  },
  {
   "cell_type": "code",
   "execution_count": 26,
   "metadata": {},
   "outputs": [],
   "source": [
    "#Note: I tried logistic activation and different combinations of hidden layers/nodes\n",
    "#Hyperparameters below minimized the log loss in the holdout set\n",
    "#I also submited a prediction with 10 nodes in the first layer, but this is the submission that placed 4th (w/ 8 in 1st)\n",
    "nn = MLPClassifier(activation='relu', hidden_layer_sizes=(8,5,3),random_state=201, max_iter=1000)\n",
    "nn.fit(scaled_X_train,y_train)\n",
    "nn_pred = pd.DataFrame(nn.predict_proba(scaled_X_valid))[1]"
   ]
  },
  {
   "cell_type": "code",
   "execution_count": 27,
   "metadata": {},
   "outputs": [
    {
     "data": {
      "text/plain": [
       "0.48567514848578824"
      ]
     },
     "execution_count": 27,
     "metadata": {},
     "output_type": "execute_result"
    }
   ],
   "source": [
    "LogLoss(nn_pred, y_valid)"
   ]
  },
  {
   "cell_type": "code",
   "execution_count": 28,
   "metadata": {},
   "outputs": [
    {
     "data": {
      "text/plain": [
       "0.5314306526723535"
      ]
     },
     "execution_count": 28,
     "metadata": {},
     "output_type": "execute_result"
    }
   ],
   "source": [
    "#try second holdout (does worse, but still better than baseline of 54)\n",
    "nn.fit(scaled_X_train16,y_train16)\n",
    "nn_pred16 = pd.DataFrame(nn.predict_proba(scaled_X_valid16))[1]\n",
    "LogLoss(nn_pred16, y_valid16)"
   ]
  },
  {
   "cell_type": "markdown",
   "metadata": {},
   "source": [
    "Without line"
   ]
  },
  {
   "cell_type": "code",
   "execution_count": 29,
   "metadata": {},
   "outputs": [],
   "source": [
    "#Note: I tried logistic activation and different combinations of hidden layers/nodes\n",
    "#Hyperparameters below minimized the log loss in the holdout set\n",
    "ind_var_selected_no_line = ['is_tourney', 'Hwins_top25','Rwins_top25','HPointMargin','RPointMargin','HFG','RFG','HFG3','RFG3','HRankPOM','RRankPOM','Hadjem','Hadjo','Hadjd','Hluck','Radjem','Radjo','Radjd','Rluck','Htourny20plus','Rtourny20plus','HBig4Conf','RBig4Conf', 'HSeed','RSeed']\n",
    "nn = MLPClassifier(activation='relu', hidden_layer_sizes=(7,5,3),random_state=201, max_iter=1000)\n",
    "nn.fit(scaled_X_train[ind_var_selected_no_line],y_train)\n",
    "nn_pred_no_line = pd.DataFrame(nn.predict_proba(scaled_X_valid[ind_var_selected_no_line]))[1]"
   ]
  },
  {
   "cell_type": "code",
   "execution_count": 30,
   "metadata": {},
   "outputs": [
    {
     "data": {
      "text/plain": [
       "0.4554491920240921"
      ]
     },
     "execution_count": 30,
     "metadata": {},
     "output_type": "execute_result"
    }
   ],
   "source": [
    "LogLoss(nn_pred_no_line, y_valid)"
   ]
  },
  {
   "cell_type": "code",
   "execution_count": 31,
   "metadata": {},
   "outputs": [
    {
     "data": {
      "text/plain": [
       "0.4210879706016679"
      ]
     },
     "execution_count": 31,
     "metadata": {},
     "output_type": "execute_result"
    }
   ],
   "source": [
    "#try second holdout (does better)\n",
    "nn.fit(scaled_X_train16[ind_var_selected_no_line],y_train16)\n",
    "nn_pred_no_line16 = pd.DataFrame(nn.predict_proba(scaled_X_valid16[ind_var_selected_no_line]))[1]\n",
    "LogLoss(nn_pred_no_line16, y_valid16)"
   ]
  },
  {
   "cell_type": "markdown",
   "metadata": {},
   "source": [
    "Try avg of line and no line:"
   ]
  },
  {
   "cell_type": "code",
   "execution_count": 32,
   "metadata": {},
   "outputs": [
    {
     "data": {
      "text/plain": [
       "0.464923617199742"
      ]
     },
     "execution_count": 32,
     "metadata": {},
     "output_type": "execute_result"
    }
   ],
   "source": [
    "avg = (nn_pred_no_line+nn_pred)/2\n",
    "LogLoss(avg, y_valid)"
   ]
  },
  {
   "cell_type": "code",
   "execution_count": 33,
   "metadata": {},
   "outputs": [
    {
     "data": {
      "text/plain": [
       "0.454202668503705"
      ]
     },
     "execution_count": 33,
     "metadata": {},
     "output_type": "execute_result"
    }
   ],
   "source": [
    "avg16 = (nn_pred_no_line16+nn_pred16)/2\n",
    "LogLoss(avg16, y_valid16)"
   ]
  },
  {
   "cell_type": "markdown",
   "metadata": {},
   "source": [
    "# Create test predictions"
   ]
  },
  {
   "cell_type": "code",
   "execution_count": 34,
   "metadata": {},
   "outputs": [],
   "source": [
    "#different submissions: differ by first layer of nueral net\n",
    "ind_var_selected_no_line = ['is_tourney', 'Hwins_top25','Rwins_top25','HPointMargin','RPointMargin','HFG','RFG','HFG3','RFG3','HRankPOM','RRankPOM','Hadjem','Hadjo','Hadjd','Hluck','Radjem','Radjo','Radjd','Rluck','Htourny20plus','Rtourny20plus','HBig4Conf','RBig4Conf', 'HSeed','RSeed']\n",
    "\n",
    "#train model on all data (previously held out some tournaments for a test set)\n",
    "nn = MLPClassifier(activation='relu', hidden_layer_sizes=(7,5,3),random_state=201, max_iter=1000)\n",
    "nn.fit(scaled_X_train_orig[ind_var_selected_no_line],y_train_orig)\n",
    "second_rd_submission_all = pd.DataFrame(nn.predict_proba(scaled_X_test[ind_var_selected_no_line]))"
   ]
  },
  {
   "cell_type": "code",
   "execution_count": 35,
   "metadata": {},
   "outputs": [],
   "source": [
    "#Note: I'm predicting home (lower seed) win probability. Need to convert to be consistent with output file (lower team ID)\n",
    "second_rd_submission = pd.merge(test_combos_df, second_rd_submission_all, left_index=True, right_index=True)"
   ]
  },
  {
   "cell_type": "code",
   "execution_count": 36,
   "metadata": {},
   "outputs": [],
   "source": [
    "second_rd_submission.loc[second_rd_submission['HTeamID']<second_rd_submission['RTeamID'], 'pred'] = second_rd_submission[1]\n",
    "second_rd_submission.loc[second_rd_submission['HTeamID']>second_rd_submission['RTeamID'], 'pred'] = second_rd_submission[0]"
   ]
  },
  {
   "cell_type": "code",
   "execution_count": 37,
   "metadata": {},
   "outputs": [],
   "source": [
    "second_rd_submission.to_csv('Data/~Created data/second_rd_submission_all.csv', index=False)"
   ]
  },
  {
   "cell_type": "code",
   "execution_count": 38,
   "metadata": {},
   "outputs": [],
   "source": [
    "second_rd_submission = second_rd_submission[['ID','pred']]"
   ]
  },
  {
   "cell_type": "code",
   "execution_count": 39,
   "metadata": {},
   "outputs": [
    {
     "data": {
      "text/html": [
       "<div>\n",
       "<style scoped>\n",
       "    .dataframe tbody tr th:only-of-type {\n",
       "        vertical-align: middle;\n",
       "    }\n",
       "\n",
       "    .dataframe tbody tr th {\n",
       "        vertical-align: top;\n",
       "    }\n",
       "\n",
       "    .dataframe thead th {\n",
       "        text-align: right;\n",
       "    }\n",
       "</style>\n",
       "<table border=\"1\" class=\"dataframe\">\n",
       "  <thead>\n",
       "    <tr style=\"text-align: right;\">\n",
       "      <th></th>\n",
       "      <th>ID</th>\n",
       "      <th>pred</th>\n",
       "    </tr>\n",
       "  </thead>\n",
       "  <tbody>\n",
       "    <tr>\n",
       "      <th>0</th>\n",
       "      <td>2019_1101_1113</td>\n",
       "      <td>0.190039</td>\n",
       "    </tr>\n",
       "    <tr>\n",
       "      <th>1</th>\n",
       "      <td>2019_1101_1120</td>\n",
       "      <td>0.078436</td>\n",
       "    </tr>\n",
       "    <tr>\n",
       "      <th>2</th>\n",
       "      <td>2019_1101_1124</td>\n",
       "      <td>0.122828</td>\n",
       "    </tr>\n",
       "    <tr>\n",
       "      <th>3</th>\n",
       "      <td>2019_1101_1125</td>\n",
       "      <td>0.153890</td>\n",
       "    </tr>\n",
       "    <tr>\n",
       "      <th>4</th>\n",
       "      <td>2019_1101_1133</td>\n",
       "      <td>0.675128</td>\n",
       "    </tr>\n",
       "  </tbody>\n",
       "</table>\n",
       "</div>"
      ],
      "text/plain": [
       "               ID      pred\n",
       "0  2019_1101_1113  0.190039\n",
       "1  2019_1101_1120  0.078436\n",
       "2  2019_1101_1124  0.122828\n",
       "3  2019_1101_1125  0.153890\n",
       "4  2019_1101_1133  0.675128"
      ]
     },
     "execution_count": 39,
     "metadata": {},
     "output_type": "execute_result"
    }
   ],
   "source": [
    "second_rd_submission.head()"
   ]
  },
  {
   "cell_type": "code",
   "execution_count": 40,
   "metadata": {},
   "outputs": [
    {
     "data": {
      "text/html": [
       "<div>\n",
       "<style scoped>\n",
       "    .dataframe tbody tr th:only-of-type {\n",
       "        vertical-align: middle;\n",
       "    }\n",
       "\n",
       "    .dataframe tbody tr th {\n",
       "        vertical-align: top;\n",
       "    }\n",
       "\n",
       "    .dataframe thead th {\n",
       "        text-align: right;\n",
       "    }\n",
       "</style>\n",
       "<table border=\"1\" class=\"dataframe\">\n",
       "  <thead>\n",
       "    <tr style=\"text-align: right;\">\n",
       "      <th></th>\n",
       "      <th>ID</th>\n",
       "      <th>pred</th>\n",
       "    </tr>\n",
       "  </thead>\n",
       "  <tbody>\n",
       "    <tr>\n",
       "      <th>2273</th>\n",
       "      <td>2019_1449_1459</td>\n",
       "      <td>0.264454</td>\n",
       "    </tr>\n",
       "    <tr>\n",
       "      <th>2274</th>\n",
       "      <td>2019_1449_1463</td>\n",
       "      <td>0.674249</td>\n",
       "    </tr>\n",
       "    <tr>\n",
       "      <th>2275</th>\n",
       "      <td>2019_1458_1459</td>\n",
       "      <td>0.332634</td>\n",
       "    </tr>\n",
       "    <tr>\n",
       "      <th>2276</th>\n",
       "      <td>2019_1458_1463</td>\n",
       "      <td>0.896041</td>\n",
       "    </tr>\n",
       "    <tr>\n",
       "      <th>2277</th>\n",
       "      <td>2019_1459_1463</td>\n",
       "      <td>0.881246</td>\n",
       "    </tr>\n",
       "  </tbody>\n",
       "</table>\n",
       "</div>"
      ],
      "text/plain": [
       "                  ID      pred\n",
       "2273  2019_1449_1459  0.264454\n",
       "2274  2019_1449_1463  0.674249\n",
       "2275  2019_1458_1459  0.332634\n",
       "2276  2019_1458_1463  0.896041\n",
       "2277  2019_1459_1463  0.881246"
      ]
     },
     "execution_count": 40,
     "metadata": {},
     "output_type": "execute_result"
    }
   ],
   "source": [
    "second_rd_submission.tail()"
   ]
  },
  {
   "cell_type": "code",
   "execution_count": 41,
   "metadata": {},
   "outputs": [],
   "source": [
    "#Export to submit to Kaggle\n",
    "second_rd_submission.to_csv('Data/~Created data/second_rd_submission.csv', index=False)"
   ]
  },
  {
   "cell_type": "markdown",
   "metadata": {},
   "source": [
    "# Other models"
   ]
  },
  {
   "cell_type": "markdown",
   "metadata": {},
   "source": [
    "No model performed as well as the neural network"
   ]
  },
  {
   "cell_type": "markdown",
   "metadata": {},
   "source": [
    "XGBoost"
   ]
  },
  {
   "cell_type": "code",
   "execution_count": 42,
   "metadata": {},
   "outputs": [
    {
     "name": "stderr",
     "output_type": "stream",
     "text": [
      "C:\\Users\\dlorenz\\AppData\\Local\\Continuum\\anaconda3\\lib\\site-packages\\xgboost\\core.py:587: FutureWarning: Series.base is deprecated and will be removed in a future version\n",
      "  if getattr(data, 'base', None) is not None and \\\n",
      "C:\\Users\\dlorenz\\AppData\\Local\\Continuum\\anaconda3\\lib\\site-packages\\xgboost\\core.py:588: FutureWarning: Series.base is deprecated and will be removed in a future version\n",
      "  data.base is not None and isinstance(data, np.ndarray) \\\n"
     ]
    }
   ],
   "source": [
    "X_train = X_train[['is_tourney', 'Hwins_top25','Rwins_top25','HPointMargin','RPointMargin','HFG','RFG','HFG3','RFG3','HRankPOM','RRankPOM','Hadjem','Hadjo','Hadjd','Hluck','Radjem','Radjo','Radjd','Rluck','Htourny20plus','Rtourny20plus','HBig4Conf','RBig4Conf', 'HSeed','RSeed']]\n",
    "X_valid= X_valid[['is_tourney', 'Hwins_top25','Rwins_top25','HPointMargin','RPointMargin','HFG','RFG','HFG3','RFG3','HRankPOM','RRankPOM','Hadjem','Hadjo','Hadjd','Hluck','Radjem','Radjo','Radjd','Rluck','Htourny20plus','Rtourny20plus','HBig4Conf','RBig4Conf', 'HSeed','RSeed']]\n",
    "X_train_xgb = xgb.DMatrix(X_train, label = y_train)\n",
    "X_valid_xgb = xgb.DMatrix(X_valid)"
   ]
  },
  {
   "cell_type": "code",
   "execution_count": 43,
   "metadata": {},
   "outputs": [],
   "source": [
    "num_round_for_cv = 1000\n",
    "param = {'max_depth':3, 'eta':0.01, 'seed':201, 'objective':'binary:logistic', 'nthread':2}"
   ]
  },
  {
   "cell_type": "code",
   "execution_count": 44,
   "metadata": {},
   "outputs": [],
   "source": [
    "p = xgb.cv(param,\n",
    "       X_train_xgb,\n",
    "       num_round_for_cv,\n",
    "       nfold = 5,\n",
    "       show_stdv = False,\n",
    "       verbose_eval = False,\n",
    "       as_pandas = False)"
   ]
  },
  {
   "cell_type": "code",
   "execution_count": 45,
   "metadata": {},
   "outputs": [
    {
     "name": "stderr",
     "output_type": "stream",
     "text": [
      "C:\\Users\\dlorenz\\AppData\\Local\\Continuum\\anaconda3\\lib\\site-packages\\ipykernel_launcher.py:2: FutureWarning: \n",
      "The current behaviour of 'Series.argmin' is deprecated, use 'idxmin'\n",
      "instead.\n",
      "The behavior of 'argmin' will be corrected to return the positional\n",
      "minimum in the future. For now, use 'series.values.argmin' or\n",
      "'np.argmin(np.array(values))' to get the position of the minimum\n",
      "row.\n",
      "  \n"
     ]
    }
   ],
   "source": [
    "p = pd.DataFrame(p)\n",
    "use_num = p['test-error-mean'].argmin()"
   ]
  },
  {
   "cell_type": "code",
   "execution_count": 46,
   "metadata": {},
   "outputs": [],
   "source": [
    "num_round = use_num\n",
    "xgb_train = xgb.train(param, X_train_xgb, num_round)\n",
    "xgb_valid_prob = pd.Series(xgb_train.predict(X_valid_xgb))"
   ]
  },
  {
   "cell_type": "code",
   "execution_count": 47,
   "metadata": {},
   "outputs": [
    {
     "data": {
      "image/png": "[encoded data removed]",
      "text/plain": [
       "<Figure size 432x288 with 1 Axes>"
      ]
     },
     "metadata": {},
     "output_type": "display_data"
    }
   ],
   "source": [
    "xgb.plot_importance(xgb_train)\n",
    "plt.rcParams['figure.figsize'] = [20, 20]\n",
    "plt.show()"
   ]
  },
  {
   "cell_type": "code",
   "execution_count": 48,
   "metadata": {},
   "outputs": [
    {
     "data": {
      "text/plain": [
       "0.5179763780211779"
      ]
     },
     "execution_count": 48,
     "metadata": {},
     "output_type": "execute_result"
    }
   ],
   "source": [
    "LogLoss(xgb_valid_prob, y_valid)"
   ]
  },
  {
   "cell_type": "markdown",
   "metadata": {},
   "source": [
    "Random forest"
   ]
  },
  {
   "cell_type": "code",
   "execution_count": 49,
   "metadata": {},
   "outputs": [
    {
     "data": {
      "text/plain": [
       "0.5807195719900436"
      ]
     },
     "execution_count": 49,
     "metadata": {},
     "output_type": "execute_result"
    }
   ],
   "source": [
    "clf = RandomForestClassifier(n_estimators=200, max_depth=3, min_samples_leaf=3)\n",
    "clf.fit(X_train, y_train)\n",
    "rf_prob = pd.DataFrame(clf.predict_proba(X_valid))\n",
    "LogLoss(rf_prob[1], y_valid)"
   ]
  },
  {
   "cell_type": "code",
   "execution_count": 50,
   "metadata": {},
   "outputs": [],
   "source": [
    "avg = (rf_prob[1]+xgb_valid_prob+nn_pred)/3"
   ]
  },
  {
   "cell_type": "code",
   "execution_count": 51,
   "metadata": {},
   "outputs": [
    {
     "data": {
      "text/plain": [
       "0.5196065131373279"
      ]
     },
     "execution_count": 51,
     "metadata": {},
     "output_type": "execute_result"
    }
   ],
   "source": [
    "LogLoss(avg, y_valid)"
   ]
  }
 ],
 "metadata": {
  "kernelspec": {
   "display_name": "Python 3",
   "language": "python",
   "name": "python3"
  },
  "language_info": {
   "codemirror_mode": {
    "name": "ipython",
    "version": 3
   },
   "file_extension": ".py",
   "mimetype": "text/x-python",
   "name": "python",
   "nbconvert_exporter": "python",
   "pygments_lexer": "ipython3",
   "version": "3.6.5"
  }
 },
 "nbformat": 4,
 "nbformat_minor": 2
}
